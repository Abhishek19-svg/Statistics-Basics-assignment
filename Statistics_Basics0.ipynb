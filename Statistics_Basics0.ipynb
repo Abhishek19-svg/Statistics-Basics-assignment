{
  "nbformat": 4,
  "nbformat_minor": 0,
  "metadata": {
    "colab": {
      "provenance": []
    },
    "kernelspec": {
      "name": "python3",
      "display_name": "Python 3"
    },
    "language_info": {
      "name": "python"
    }
  },
  "cells": [
    {
      "cell_type": "markdown",
      "source": [
        "# **1) What is statistics, and why is it important?**\n",
        "\n",
        "ans- Statistics is the branch of mathematics that deals with collecting, organizing, analyzing, interpreting, and presenting data. It helps us make sense of large amounts of information and draw conclusions or make decisions based on that data.\n",
        "\n",
        "Key Components of Statistics\n",
        "Descriptive Statistics – Summarizes or describes the main features of a dataset.\n",
        "\n",
        "Examples: Mean (average), median, mode, standard deviation.\n",
        "\n",
        "Inferential Statistics – Makes predictions or inferences about a population based on a sample.\n",
        "\n",
        "Examples: Hypothesis testing, confidence intervals, regression analysis.\n",
        "\n",
        "**Why Is Statistics Important?**\n",
        "\n",
        "Informed Decision-Making:\n",
        "\n",
        "Governments use statistics to create public policies.\n",
        "\n",
        "Businesses use it to guide strategy and marketing decisions.\n",
        "\n",
        "Scientific Research:\n",
        "\n",
        "It’s essential in designing experiments and validating results in fields like medicine, psychology, and engineering.\n",
        "\n",
        "Understanding Uncertainty and Risk:\n",
        "\n",
        "Statistics helps quantify uncertainty and assess risks, useful in finance, insurance, and disaster planning.\n",
        "\n",
        "Data-Driven World:\n",
        "\n",
        "In the era of big data, statistics is critical for interpreting patterns, trends, and insights from massive datasets.\n",
        "\n",
        "Quality Control and Improvement:\n",
        "\n",
        "Used in manufacturing and service industries to maintain and improve quality standards."
      ],
      "metadata": {
        "id": "Ilnci13PWGsf"
      }
    },
    {
      "cell_type": "markdown",
      "source": [
        "# **2) What are the two main types of statistics?**\n",
        "\n",
        "ans-\n",
        "\n",
        "The two main types of statistics are:\n",
        "\n",
        "1. Descriptive Statistics\n",
        "Descriptive statistics are used to summarize and describe the main features of a dataset. They provide a simple overview of the data without drawing conclusions beyond the data itself.\n",
        "\n",
        "Key Tools in Descriptive Statistics:\n",
        "Measures of Central Tendency: Mean (average), median, mode\n",
        "\n",
        "Measures of Dispersion: Range, variance, standard deviation\n",
        "\n",
        "Graphs and Charts: Bar graphs, histograms, pie charts, box plots\n",
        "\n",
        "Example:\n",
        "If you survey 100 students about their test scores and find the average score is 75, that’s descriptive statistics.\n",
        "\n",
        "\n",
        "2. Inferential Statistics\n",
        "Inferential statistics use a sample of data to make generalizations or predictions about a larger population. It allows you to infer trends, test hypotheses, and make estimates.\n",
        "\n",
        "Key Tools in Inferential Statistics:\n",
        "Hypothesis Testing\n",
        "\n",
        "Confidence Intervals\n",
        "\n",
        "Regression Analysis\n",
        "\n",
        "Analysis of Variance (ANOVA)\n",
        "\n",
        "Example:\n",
        "If you test a new drug on a sample of 1,000 people and conclude it is effective for the general population, that’s inferential statistics.\n",
        "\n",
        "Summary:\n",
        "\n",
        "| Type            | Purpose                             | Example                                         |\n",
        "| --------------- | ----------------------------------- | ----------------------------------------------- |\n",
        "| **Descriptive** | Describe or summarize data          | “The average height in the class is 5'6\".”      |\n",
        "| **Inferential** | Make predictions or generalizations | “Based on the sample, 70% of voters support X.” |\n",
        "\n"
      ],
      "metadata": {
        "id": "MOy01hs8XAr_"
      }
    },
    {
      "cell_type": "markdown",
      "source": [
        "# **3) What are descriptive statistics?**\n",
        "\n",
        "ans-\n",
        "Descriptive statistics are methods used to summarize, organize, and present data in a meaningful way. They describe the basic features of a dataset, giving you a simple overview without making predictions or generalizations beyond the data.\n",
        "\n",
        "🔑 Main Features of Descriptive Statistics:\n",
        "1. Measures of Central Tendency\n",
        "These tell you the center or average of the data:\n",
        "\n",
        "Mean – The arithmetic average (sum of values ÷ number of values)\n",
        "\n",
        "Median – The middle value when data is ordered\n",
        "\n",
        "Mode – The most frequently occurring value\n",
        "\n",
        "2. Measures of Dispersion (Spread)\n",
        "These show how spread out the data is:\n",
        "\n",
        "Range – Difference between the highest and lowest values\n",
        "\n",
        "Variance – The average of the squared differences from the mean\n",
        "\n",
        "Standard Deviation – A measure of how much values typically differ from the mean\n",
        "\n",
        "3. Frequency Distribution\n",
        "Shows how often each value or range of values occurs (e.g., in a table or graph)\n",
        "\n",
        "4. Graphical Representations\n",
        "Bar charts\n",
        "\n",
        "Histograms\n",
        "\n",
        "Pie charts\n",
        "\n",
        "Box plots\n",
        "\n",
        "✅ Example of Descriptive Statistics:\n",
        "Imagine you have the test scores of 5 students: 80, 85, 90, 95, 100\n",
        "\n",
        "Mean = (80 + 85 + 90 + 95 + 100) / 5 = 90\n",
        "\n",
        "Median = 90\n",
        "\n",
        "Mode = None (all scores are unique)\n",
        "\n",
        "Range = 100 - 80 = 20\n",
        "\n",
        "Standard Deviation = Measure of how scores vary around the mean\n",
        "\n",
        "\n",
        " Summary:\n",
        "\n",
        " Descriptive statistics help you understand and describe the structure of your data, making it easier to interpret before moving on to deeper analysis like inferential statistics.\n"
      ],
      "metadata": {
        "id": "icP9WoLwXbN2"
      }
    },
    {
      "cell_type": "markdown",
      "source": [
        "# **4) What is inferential statistics?**\n",
        "\n",
        "ans-\n",
        "Inferential statistics is the branch of statistics that allows you to make predictions, conclusions, or generalizations about a larger population based on data collected from a sample of that population.\n",
        "\n",
        " Key Purpose of Inferential Statistics:\n",
        "To use data from a sample to infer or estimate what is likely true about the whole population, often with a stated level of confidence or certainty.\n",
        "\n",
        " Main Techniques in Inferential Statistics:\n",
        "1. Hypothesis Testing\n",
        "Used to test assumptions (hypotheses) about a population.\n",
        "\n",
        "Example: Testing if a new teaching method improves student performance.\n",
        "\n",
        "2. Confidence Intervals\n",
        "Provide a range of values within which the true population value is likely to fall.\n",
        "\n",
        "Example: \"We are 95% confident that the average height of students is between 5'6\" and 5'8\".\"\n",
        "\n",
        "3. Regression Analysis\n",
        "Explores relationships between variables (e.g., how study time affects test scores).\n",
        "\n",
        "4. Analysis of Variance (ANOVA)\n",
        "Compares the means of three or more groups to see if there are statistically significant differences.\n",
        "\n",
        "5. Sampling Distributions\n",
        "The theoretical distribution of a statistic (like the mean) based on repeated sampling.\n",
        "\n",
        " Example of Inferential Statistics:\n",
        "Suppose you survey 100 voters out of a population of 10,000 and find that 60% support a candidate. You might use inferential statistics to conclude:\n",
        "\n",
        "\"Approximately 60% of all voters support this candidate, with a margin of error of ±5%.\"\n",
        "\n",
        " Key Difference from Descriptive Statistics:\n",
        "\n",
        " | Feature  | Descriptive Statistics               | Inferential Statistics                             |\n",
        "| -------- | ------------------------------------ | -------------------------------------------------- |\n",
        "| Purpose  | Describe and summarize data          | Make predictions or conclusions about a population |\n",
        "| Based on | Entire dataset or sample             | Sample data                                        |\n",
        "| Output   | Graphs, averages, measures of spread | Confidence intervals, hypothesis tests             |\n"
      ],
      "metadata": {
        "id": "DTMHO4eRX2YM"
      }
    },
    {
      "cell_type": "markdown",
      "source": [
        "# **5) What is sampling in statistics**?\n",
        "\n",
        "ans-\n",
        "\n",
        "Sampling in statistics is the process of selecting a subset (sample) from a larger group (population) to study and draw conclusions about the entire population.\n",
        "\n",
        "Since studying an entire population is often too expensive, time-consuming, or impractical, sampling allows researchers to gather and analyze data more efficiently.\n",
        "\n",
        " Key Concepts:\n",
        "Population: The entire group you want to learn about (e.g., all high school students in a country).\n",
        "\n",
        "Sample: A smaller group selected from the population (e.g., 500 randomly chosen students).\n",
        "\n",
        "Sampling: The method used to select the sample.\n",
        "\n",
        " Why Sampling Is Important:\n",
        "Saves time and resources\n",
        "\n",
        "Allows for manageable data collection\n",
        "\n",
        "Enables inferential statistics (drawing conclusions about the population)\n",
        "\n",
        " Types of Sampling Methods:\n",
        " 1. Probability Sampling (every member has a known chance of selection)\n",
        "Simple Random Sampling – Every member has an equal chance of being selected.\n",
        "\n",
        "Systematic Sampling – Select every k-th member from a list.\n",
        "\n",
        "Stratified Sampling – Divide the population into groups (strata) and sample from each.\n",
        "\n",
        "Cluster Sampling – Divide the population into clusters, randomly select some clusters, and sample everyone in those.\n",
        "\n",
        " 2. Non-Probability Sampling (not every member has a known or equal chance)\n",
        "Convenience Sampling – Select those easiest to reach.\n",
        "\n",
        "Judgmental/Purposive Sampling – Select based on expert judgment.\n",
        "\n",
        "Quota Sampling – Ensure certain characteristics are represented in specific proportions.\n",
        "\n",
        "Snowball Sampling – Participants refer others (common in hard-to-reach populations).\n",
        "\n",
        " Example:\n",
        "You're researching coffee consumption among college students:\n",
        "\n",
        "Population: All college students in your country.\n",
        "\n",
        "Sample: 1,000 students randomly chosen from 20 universities.\n",
        "\n",
        "Sampling Method: Stratified sampling (you divide by region or year of study, then randomly sample within each group).\n",
        "\n",
        " Summary:\n",
        "\n",
        " Sampling is a foundational concept in statistics. It allows researchers to gather meaningful insights about a population by studying a smaller, representative group. When done properly, sampling leads to accurate and reliable conclusions with minimal cost and effort.\n"
      ],
      "metadata": {
        "id": "eNvSM7S6YQ9d"
      }
    },
    {
      "cell_type": "markdown",
      "source": [
        "# **6) What are the different types of sampling methods?**\n",
        "\n",
        "ans-\n",
        "\n",
        "In statistics, sampling methods are techniques used to select a portion of a population for study. The goal is to choose a representative sample so that conclusions drawn from the sample can be generalized to the entire population.\n",
        "\n",
        "Sampling methods are broadly classified into two categories:\n",
        "\n",
        " 1. Probability Sampling\n",
        "In probability sampling, every member of the population has a known and non-zero chance of being selected. This type is preferred for making unbiased and statistically valid inferences.\n",
        "\n",
        "Types of Probability Sampling: a. Simple Random Sampling\n",
        "Every individual has an equal chance of being selected.\n",
        "\n",
        "Example: Drawing names from a hat or using a random number generator.\n",
        "\n",
        " b. Systematic Sampling\n",
        "Select every k-th individual from a list.\n",
        "\n",
        "Example: Every 10th customer on a store’s loyalty list.\n",
        "\n",
        " c. Stratified Sampling\n",
        "Divide the population into subgroups (strata) based on a characteristic (e.g., age, gender), then randomly sample from each group.\n",
        "\n",
        "Ensures all key groups are represented.\n",
        "\n",
        " d. Cluster Sampling\n",
        "Divide the population into clusters (often by geography), randomly select a few clusters, and survey everyone in those clusters.\n",
        "\n",
        "Cost-effective for large populations spread across wide areas.\n",
        "\n",
        " 2. Non-Probability Sampling\n",
        "In non-probability sampling, not every member has a known or equal chance of being selected. It's easier and quicker, but more prone to bias.\n",
        "\n",
        "Types of Non-Probability Sampling:\n",
        " a. Convenience Sampling\n",
        "Choose individuals who are easiest to reach.\n",
        "\n",
        "Example: Surveying people in a nearby café.\n",
        "\n",
        " b. Judgmental (Purposive) Sampling\n",
        "The researcher selects participants based on their expert judgment about who is most useful or typical.\n",
        "\n",
        "Common in qualitative research.\n",
        "\n",
        " c. Quota Sampling\n",
        "Ensure the sample reflects certain characteristics in specific proportions (like 50% male, 50% female), but participants are not randomly chosen.\n",
        "\n",
        " d. Snowball Sampling\n",
        "Existing participants recruit others.\n",
        "\n",
        "Useful for hard-to-reach populations (e.g., drug users, undocumented immigrants).\n",
        "\n",
        " Summary Table:\n",
        "\n",
        " | Type                | Subtypes                                 | Key Feature                              | Example                                 |\n",
        "| ------------------- | ---------------------------------------- | ---------------------------------------- | --------------------------------------- |\n",
        "| **Probability**     | Simple, Systematic, Stratified, Cluster  | Every member has known chance            | Randomly selecting students from a list |\n",
        "| **Non-Probability** | Convenience, Judgmental, Quota, Snowball | Selection is subjective or based on ease | Interviewing people at a mall           |\n"
      ],
      "metadata": {
        "id": "xIbKXGTjYuYv"
      }
    },
    {
      "cell_type": "markdown",
      "source": [
        "# **7) What is the difference between random and non-random sampling?**\n",
        "\n",
        "ans-\n",
        "\n",
        "The difference between random and non-random sampling lies in how the sample is selected and the level of bias or objectivity involved.\n",
        "\n",
        " Random Sampling (Probability Sampling)\n",
        " Definition:\n",
        "Every individual or element in the population has a known and equal chance of being selected.\n",
        "\n",
        " Key Features:\n",
        "Unbiased selection\n",
        "\n",
        "Statistically valid results\n",
        "\n",
        "Allows generalization to the whole population\n",
        "\n",
        " Examples:\n",
        "Simple random sampling\n",
        "\n",
        "Systematic sampling\n",
        "\n",
        "Stratified sampling\n",
        "\n",
        "Cluster sampling\n",
        "\n",
        " Example Situation:\n",
        "You have a list of 1,000 students and use a random number generator to select 100.\n",
        "\n",
        " Non-Random Sampling (Non-Probability Sampling)\n",
        " Definition:\n",
        "Not every individual in the population has a known or equal chance of being selected. Selection is based on convenience, judgment, or availability.\n",
        "\n",
        " Key Features:\n",
        "More prone to bias\n",
        "\n",
        "Cannot reliably generalize to the population\n",
        "\n",
        "Often used in exploratory or qualitative research\n",
        "\n",
        " Examples:\n",
        "Convenience sampling\n",
        "\n",
        "Judgmental/purposive sampling\n",
        "\n",
        "Quota sampling\n",
        "\n",
        "Snowball sampling\n",
        "\n",
        " Example Situation:\n",
        "You stand outside a library and survey the first 100 people who walk by.\n",
        "\n",
        " Comparison Table:\n",
        "\n",
        " | Feature             | **Random Sampling**                           | **Non-Random Sampling**                        |\n",
        "| ------------------- | --------------------------------------------- | ---------------------------------------------- |\n",
        "| Selection method    | By chance (random)                            | Based on ease or researcher’s choice           |\n",
        "| Chance of selection | Known and equal                               | Unknown or unequal                             |\n",
        "| Bias                | Low                                           | High                                           |\n",
        "| Generalizability    | High (to population)                          | Low (limited to sample)                        |\n",
        "| Use case            | Quantitative, large-scale, scientific studies | Exploratory, qualitative, small-scale research |\n"
      ],
      "metadata": {
        "id": "v22XfBNqZK_9"
      }
    },
    {
      "cell_type": "markdown",
      "source": [
        "# **8) Define and give examples of qualitative and quantitative data?**\n",
        "\n",
        "ans-\n",
        "\n",
        " Qualitative and Quantitative Data: Definitions and Examples🔹 1. Qualitative Data (Also called Categorical Data)\n",
        "Definition:\n",
        "Qualitative data describes qualities or characteristics. It is non-numerical and often involves categories, labels, or descriptions.\n",
        "\n",
        "Key Features:\n",
        "Descriptive\n",
        "\n",
        "Cannot be measured in numbers (but can be categorized)\n",
        "\n",
        "Often answers \"what kind?\" or \"which type?\"\n",
        "\n",
        "Types of Qualitative Data:\n",
        "Nominal: Categories with no natural order (e.g., colors, gender)\n",
        "\n",
        "Ordinal: Categories with a meaningful order, but not evenly spaced (e.g., satisfaction levels: poor, fair, good)\n",
        "\n",
        "Examples:\n",
        "Eye color: Blue, green, brown\n",
        "\n",
        "Types of cuisine: Italian, Chinese, Mexican\n",
        "\n",
        "Marital status: Single, married, divorced\n",
        "\n",
        "Customer feedback: \"Excellent\", \"Good\", \"Poor\"\n",
        "\n",
        "Blood type: A, B, AB, O\n",
        "\n",
        " 2. Quantitative Data\n",
        "Definition:\n",
        "Quantitative data involves numbers and represents quantities that can be measured or counted.\n",
        "\n",
        "Key Features:\n",
        "Numerical\n",
        "\n",
        "Can be used for mathematical calculations\n",
        "\n",
        "Answers \"how many?\", \"how much?\", or \"how often?\"\n",
        "\n",
        "Types of Quantitative Data:\n",
        "Discrete: Whole numbers, counts (e.g., number of children)\n",
        "\n",
        "Continuous: Can take any value within a range (e.g., weight, height)\n",
        "\n",
        "Examples:\n",
        "Age: 18, 25, 42\n",
        "\n",
        "Height: 170.5 cm\n",
        "\n",
        "Test scores: 85, 90, 75\n",
        "\n",
        "Number of books read: 12\n",
        "\n",
        "Temperature: 36.6°C\n",
        "\n",
        " Summary Table:\n",
        "\n",
        "| Feature         | **Qualitative Data**                   | **Quantitative Data**            |\n",
        "| --------------- | -------------------------------------- | -------------------------------- |\n",
        "| Nature          | Descriptive, categorical               | Numerical, measurable            |\n",
        "| Can be counted? | No                                     | Yes                              |\n",
        "| Examples        | Hair color, nationality, rating levels | Age, income, test scores, height |\n",
        "| Data type       | Nominal, ordinal                       | Discrete, continuous             |\n",
        "\n"
      ],
      "metadata": {
        "id": "eyORhLBUZoeW"
      }
    },
    {
      "cell_type": "markdown",
      "source": [
        "# **9) What are the different types of data in statistics?**\n",
        "\n",
        "ans-\n",
        "\n",
        "In statistics, data can be classified into different types based on their nature, characteristics, and how they can be measured or categorized. Understanding the types of data is crucial because it determines the kind of statistical methods and analysis you can apply.\n",
        "\n",
        " Main Types of Data in Statistics\n",
        "Data is broadly divided into two categories, each with subtypes:\n",
        "\n",
        " 1. Qualitative Data (Categorical Data)\n",
        "This type describes qualities or categories and is non-numeric (though sometimes coded as numbers).\n",
        "\n",
        " a. Nominal Data\n",
        "Definition: Categories without any natural order.\n",
        "\n",
        "Examples: Gender (male/female), Blood type (A, B, AB, O), Colors (red, blue, green)\n",
        "\n",
        " b. Ordinal Data\n",
        "Definition: Categories with a meaningful order, but no consistent difference between values.\n",
        "\n",
        "Examples: Education level (high school, bachelor’s, master’s), Customer satisfaction (poor, fair, good, excellent)\n",
        "\n",
        " 2. Quantitative Data (Numerical Data)\n",
        "This type consists of numbers and represents measurable quantities.\n",
        "\n",
        " a. Discrete Data\n",
        "Definition: Whole numbers that represent countable quantities.\n",
        "\n",
        "Examples: Number of children, Number of cars, Test scores\n",
        "\n",
        " b. Continuous Data\n",
        "Definition: Can take any value within a range and is measurable.\n",
        "\n",
        "Examples: Height, Weight, Temperature, Time\n",
        "\n",
        " Summary Table:\n",
        "\n",
        " | **Data Type**    | **Subtype** | **Description**                             | **Examples**                                  |\n",
        "| ---------------- | ----------- | ------------------------------------------- | --------------------------------------------- |\n",
        "| **Qualitative**  | Nominal     | Categories with no order                    | Gender, Blood type, Nationality               |\n",
        "|                  | Ordinal     | Ordered categories, but intervals not equal | Rank in class, Satisfaction level             |\n",
        "| **Quantitative** | Discrete    | Countable, whole numbers                    | Number of pets, Cars owned, Students in class |\n",
        "|                  | Continuous  | Measurable, infinite possible values        | Height, Weight, Speed, Time                   |\n"
      ],
      "metadata": {
        "id": "SnOpIO_OaKYl"
      }
    },
    {
      "cell_type": "markdown",
      "source": [
        "# **10) Explain nominal, ordinal, interval, and ratio levels of measurement.**\n",
        "\n",
        "ans-\n",
        "\n",
        "Certainly! In statistics, data can be classified into four levels of measurement: nominal, ordinal, interval, and ratio. Each level determines the type of analysis that can be performed and what kind of conclusions can be drawn.\n",
        "\n",
        " 1. Nominal Level Definition:\n",
        "The lowest level of measurement. Data is categorized into distinct groups, with no order or ranking between them.\n",
        "\n",
        " Key Characteristics:\n",
        "Categories are names or labels\n",
        "\n",
        "No inherent order\n",
        "\n",
        "Cannot do arithmetic operations\n",
        "\n",
        " Examples:\n",
        "Gender: Male, Female, Other\n",
        "\n",
        "Blood Type: A, B, AB, O\n",
        "\n",
        "Marital Status: Single, Married, Divorced\n",
        "\n",
        " 2. Ordinal Level\n",
        " Definition:\n",
        "Data is categorized and ranked, but the differences between ranks are not uniform or measurable.\n",
        "\n",
        " Key Characteristics:\n",
        "Categories have a meaningful order\n",
        "\n",
        "Unequal intervals between values\n",
        "\n",
        "You can say one is higher or lower, but not by how much\n",
        "\n",
        " Examples:\n",
        "Satisfaction: Poor, Fair, Good, Excellent\n",
        "\n",
        "Education level: High School, Bachelor’s, Master’s, Ph.D.\n",
        "\n",
        "Rank in a race: 1st, 2nd, 3rd (but time differences are unknown)\n",
        "\n",
        " 3. Interval Level\n",
        " Definition:\n",
        "Data has a meaningful order and equal intervals, but no true zero point. So, ratios are not meaningful.\n",
        "\n",
        " Key Characteristics:\n",
        "Ordered and evenly spaced\n",
        "\n",
        "No absolute zero\n",
        "\n",
        "Can do addition and subtraction, but not multiplication or division\n",
        "\n",
        " Examples:\n",
        "Temperature in Celsius or Fahrenheit (0°C ≠ no temperature)\n",
        "\n",
        "IQ scores\n",
        "\n",
        "Dates on a calendar (e.g., years 1990, 2000, 2010)\n",
        "\n",
        " 4. Ratio Level\n",
        " Definition:\n",
        "The highest level of measurement. Like interval data, but with a true zero point, allowing for meaningful ratios.\n",
        "\n",
        " Key Characteristics:\n",
        "Ordered, evenly spaced, with an absolute zero\n",
        "\n",
        "All arithmetic operations are valid (add, subtract, multiply, divide)\n",
        "\n",
        " Examples:\n",
        "Weight (0 kg means no weight)\n",
        "\n",
        "Height\n",
        "\n",
        "Age\n",
        "\n",
        "Income\n",
        "\n",
        "Distance\n",
        "\n",
        " Summary Table:\n",
        "\n",
        " | **Level**    | **Order?** | **Equal Intervals?** | **True Zero?** | **Examples**                    |\n",
        "| ------------ | ---------- | -------------------- | -------------- | ------------------------------- |\n",
        "| **Nominal**  | ❌ No       | ❌ No                 | ❌ No           | Gender, Blood type, Nationality |\n",
        "| **Ordinal**  | ✅ Yes      | ❌ No                 | ❌ No           | Rankings, Satisfaction levels   |\n",
        "| **Interval** | ✅ Yes      | ✅ Yes                | ❌ No           | Temperature (°C/°F), IQ, Dates  |\n",
        "| **Ratio**    | ✅ Yes      | ✅ Yes                | ✅ Yes          | Height, Weight, Age, Income     |\n"
      ],
      "metadata": {
        "id": "R0cj2kMxa0Xt"
      }
    },
    {
      "cell_type": "markdown",
      "source": [
        "# **11) What is the measure of central tendency?**\n",
        "\n",
        "\n",
        "ans-\n",
        "\n",
        "Measures of Central Tendency are statistical values that describe the center or typical value of a dataset. They summarize a large set of data by identifying a single value that represents the middle or most common point in the distribution.\n",
        "\n",
        " Common Measures of Central Tendency\n",
        "Mean (Average)\n",
        "\n",
        "The sum of all data values divided by the number of values.\n",
        "\n",
        "Sensitive to extreme values (outliers).\n",
        "\n",
        "Example: Mean of [2, 4, 6, 8] is (2+4+6+8)/4 = 5.\n",
        "\n",
        "Median\n",
        "\n",
        "The middle value when the data is ordered from smallest to largest.\n",
        "\n",
        "If there’s an even number of observations, it’s the average of the two middle values.\n",
        "\n",
        "Not affected by outliers.\n",
        "\n",
        "Example: Median of [2, 4, 6, 8, 10] is 6.\n",
        "\n",
        "Mode\n",
        "\n",
        "The most frequently occurring value in the data set.\n",
        "\n",
        "There can be more than one mode (bimodal, multimodal) or none if all values are unique.\n",
        "\n",
        "Example: Mode of [2, 3, 3, 5, 7] is 3.\n",
        "\n",
        " Why Are They Important?\n",
        "Help summarize large datasets with a single representative value.\n",
        "\n",
        "Provide insights into the distribution and trends of data.\n",
        "\n",
        "Useful in many fields like economics, social sciences, business, and everyday decision-making.\n",
        "\n",
        " Summary Table:\n",
        "\n",
        " | Measure | What It Represents  | When to Use                                  | Sensitive to Outliers? |\n",
        "| ------- | ------------------- | -------------------------------------------- | ---------------------- |\n",
        "| Mean    | Arithmetic average  | Symmetric distributions, interval/ratio data | Yes                    |\n",
        "| Median  | Middle value        | Skewed data, ordinal or continuous data      | No                     |\n",
        "| Mode    | Most frequent value | Categorical data or multimodal distributions | No                     |\n"
      ],
      "metadata": {
        "id": "9lYZQGuubStV"
      }
    },
    {
      "cell_type": "markdown",
      "source": [
        "# **12) Define mean, median, and mode.**\n",
        "\n",
        "ans-\n",
        "\n",
        "Here are clear definitions of mean, median, and mode:\n",
        "\n",
        "1. Mean\n",
        "The mean is the average of a set of numbers.\n",
        "\n",
        "It is found by adding all the values together and then dividing by the total number of values.\n",
        "\n",
        "Used for quantitative data, especially when data is symmetrically distributed.\n",
        "\n",
        "Formula:\n",
        "\n",
        "Mean\n",
        "=\n",
        "Sum of all values\n",
        "Number of values\n",
        "Mean=\n",
        "Number of values\n",
        "Sum of all values\n",
        "​\n",
        "\n",
        "Example:\n",
        "Data: 3, 5, 7\n",
        "Mean = (3 + 5 + 7) ÷ 3 = 15 ÷ 3 = 5\n",
        "\n",
        "2. Median\n",
        "The median is the middle value when the data is arranged in order.\n",
        "\n",
        "If the number of observations is odd, the median is the middle number.\n",
        "\n",
        "If even, the median is the average of the two middle numbers.\n",
        "\n",
        "Useful for skewed data or when outliers are present.\n",
        "\n",
        "Example:\n",
        "Data: 2, 4, 6, 8, 10 (odd count)\n",
        "Median = 6 (middle value)\n",
        "\n",
        "Data: 2, 4, 6, 8 (even count)\n",
        "Median = (4 + 6) ÷ 2 = 5\n",
        "\n",
        "3. Mode\n",
        "The mode is the value that occurs most frequently in a dataset.\n",
        "\n",
        "There can be no mode, one mode, or multiple modes.\n",
        "\n",
        "Useful for categorical data or to identify the most common value.\n",
        "\n",
        "Example:\n",
        "Data: 1, 2, 2, 3, 4\n",
        "Mode = 2 (occurs twice)"
      ],
      "metadata": {
        "id": "4NZbXKaIbwtd"
      }
    },
    {
      "cell_type": "markdown",
      "source": [
        "# **13) What is the significance of the measure of central tendency?**\n",
        "\n",
        "ans-\n",
        "\n",
        "The measure of central tendency is significant because it helps summarize and understand a dataset by identifying a single value that represents the \"center\" or most typical value. Here’s why it matters:\n",
        "\n",
        " S**ignificance of Measures of Central Tendency** *\n",
        "Simplifies Data Interpretation\n",
        "Instead of analyzing a large set of numbers, a single value (like the mean, median, or mode) provides a quick summary that represents the entire data.\n",
        "\n",
        "Helps Identify Typical Values\n",
        "It tells us what a “typical” or “average” case looks like, which is useful for decision-making, predictions, and comparisons.\n",
        "\n",
        "Supports Data Comparison\n",
        "Central tendency measures allow comparison between different datasets or groups by comparing their averages or typical values.\n",
        "\n",
        "Foundation for Further Analysis\n",
        "They are essential for more complex statistical analyses, such as variance, standard deviation, hypothesis testing, and regression.\n",
        "\n",
        "Useful in Various Fields\n",
        "From business (average sales), healthcare (median survival time), education (mean test scores), to everyday life (average income), these measures help make sense of data.\n",
        "\n",
        "**Summary:**\n",
        "\n",
        " | Purpose                   | Explanation                              |\n",
        "| ------------------------- | ---------------------------------------- |\n",
        "| Simplify large data       | Provide one number summarizing data      |\n",
        "| Represent typical value   | Show average or common outcome           |\n",
        "| Facilitate comparison     | Compare groups or time periods           |\n",
        "| Basis for advanced stats  | Input for other statistical methods      |\n",
        "| Practical decision making | Guide choices in business, science, etc. |\n"
      ],
      "metadata": {
        "id": "2TifdbyucHeU"
      }
    },
    {
      "cell_type": "markdown",
      "source": [
        "# **14) What is variance, and how is it calculated?**\n",
        "\n",
        "ans-\n",
        "\n",
        "What is Variance?\n",
        "Variance is a measure of how much the data points in a dataset spread out or deviate from the mean (average). It tells you the degree of dispersion or variability within the data.\n",
        "\n",
        "A small variance means the data points are close to the mean.\n",
        "\n",
        "A large variance means the data points are spread out over a wider range.\n",
        "\n",
        "How is Variance Calculated?\n",
        "The calculation differs slightly depending on whether you're dealing with a population or a sample.\n",
        "\n",
        "1. Population Variance (σ²)\n",
        "If you have data for the entire population, variance is calculated as:\n",
        "\n",
        "𝜎\n",
        "2\n",
        "=\n",
        "∑\n",
        "(\n",
        "𝑥\n",
        "𝑖\n",
        "−\n",
        "𝜇\n",
        ")\n",
        "2\n",
        "𝑁\n",
        "σ\n",
        "2\n",
        " =\n",
        "N\n",
        "∑(x\n",
        "i\n",
        "​\n",
        " −μ)\n",
        "2\n",
        "\n",
        "​\n",
        "\n",
        "Where:\n",
        "\n",
        "𝑥\n",
        "𝑖\n",
        "x\n",
        "i\n",
        "​\n",
        "  = each individual data point\n",
        "\n",
        "𝜇\n",
        "μ = population mean\n",
        "\n",
        "𝑁\n",
        "N = number of data points in the population\n",
        "\n",
        "∑\n",
        "∑ = sum over all data points\n",
        "\n",
        "2. Sample Variance (s²)\n",
        "If you have a sample from a population, variance is calculated as:\n",
        "\n",
        "𝑠\n",
        "2\n",
        "=\n",
        "∑\n",
        "(\n",
        "𝑥\n",
        "𝑖\n",
        "−\n",
        "𝑥\n",
        "ˉ\n",
        ")\n",
        "2\n",
        "𝑛\n",
        "−\n",
        "1\n",
        "s\n",
        "2\n",
        " =\n",
        "n−1\n",
        "∑(x\n",
        "i\n",
        "​\n",
        " −\n",
        "x\n",
        "ˉ\n",
        " )\n",
        "2\n",
        "\n",
        "​\n",
        "\n",
        "Where:\n",
        "\n",
        "𝑥\n",
        "𝑖\n",
        "x\n",
        "i\n",
        "​\n",
        "  = each individual data point in the sample\n",
        "\n",
        "𝑥\n",
        "ˉ\n",
        "x\n",
        "ˉ\n",
        "  = sample mean\n",
        "\n",
        "𝑛\n",
        "n = number of data points in the sample\n",
        "\n",
        "𝑛\n",
        "−\n",
        "1\n",
        "n−1 is used instead of\n",
        "𝑛\n",
        "n (called Bessel’s correction) to get an unbiased estimate\n",
        "\n",
        "Step-by-Step Calculation Example (Sample Variance):\n",
        "Given data: 4, 7, 8, 6, 5\n",
        "\n",
        "Calculate the mean (\n",
        "𝑥\n",
        "ˉ\n",
        "x\n",
        "ˉ\n",
        " ):\n",
        "\n",
        "𝑥\n",
        "ˉ\n",
        "=\n",
        "4\n",
        "+\n",
        "7\n",
        "+\n",
        "8\n",
        "+\n",
        "6\n",
        "+\n",
        "5\n",
        "5\n",
        "=\n",
        "30\n",
        "5\n",
        "=\n",
        "6\n",
        "x\n",
        "ˉ\n",
        " =\n",
        "5\n",
        "4+7+8+6+5\n",
        "​\n",
        " =\n",
        "5\n",
        "30\n",
        "​\n",
        " =6\n",
        "Find the squared differences from the mean:\n",
        "\n",
        "(\n",
        "4\n",
        "−\n",
        "6\n",
        ")\n",
        "2\n",
        "=\n",
        "4\n",
        ",\n",
        "(\n",
        "7\n",
        "−\n",
        "6\n",
        ")\n",
        "2\n",
        "=\n",
        "1\n",
        ",\n",
        "(\n",
        "8\n",
        "−\n",
        "6\n",
        ")\n",
        "2\n",
        "=\n",
        "4\n",
        ",\n",
        "(\n",
        "6\n",
        "−\n",
        "6\n",
        ")\n",
        "2\n",
        "=\n",
        "0\n",
        ",\n",
        "(\n",
        "5\n",
        "−\n",
        "6\n",
        ")\n",
        "2\n",
        "=\n",
        "1\n",
        "(4−6)\n",
        "2\n",
        " =4,(7−6)\n",
        "2\n",
        " =1,(8−6)\n",
        "2\n",
        " =4,(6−6)\n",
        "2\n",
        " =0,(5−6)\n",
        "2\n",
        " =1\n",
        "Sum the squared differences:\n",
        "\n",
        "4\n",
        "+\n",
        "1\n",
        "+\n",
        "4\n",
        "+\n",
        "0\n",
        "+\n",
        "1\n",
        "=\n",
        "10\n",
        "4+1+4+0+1=10\n",
        "Divide by\n",
        "𝑛\n",
        "−\n",
        "1\n",
        "=\n",
        "5\n",
        "−\n",
        "1\n",
        "=\n",
        "4\n",
        "n−1=5−1=4:\n",
        "\n",
        "𝑠\n",
        "2\n",
        "=\n",
        "10\n",
        "4\n",
        "=\n",
        "2.5\n",
        "s\n",
        "2\n",
        " =\n",
        "4\n",
        "10\n",
        "​\n",
        " =2.5\n",
        "So, the sample variance is 2.5.\n",
        "\n",
        "Summary:\n",
        "\n",
        "| Term                | Meaning                              |\n",
        "| ------------------- | ------------------------------------ |\n",
        "| Variance            | Measure of data spread around mean   |\n",
        "| Population Variance | Divide by total number of values (N) |\n",
        "| Sample Variance     | Divide by (n - 1) to correct bias    |\n"
      ],
      "metadata": {
        "id": "HerCiH_Ifn6k"
      }
    },
    {
      "cell_type": "markdown",
      "source": [
        "# **15) What is standard deviation, and why is it important?**\n",
        "\n",
        "ans-\n",
        "\n",
        "What is Standard Deviation?\n",
        "Standard deviation (SD) is a measure of how much the values in a dataset typically vary or spread out from the mean (average). It is the square root of the variance.\n",
        "\n",
        "While variance gives the average of squared deviations, standard deviation brings it back to the original units of the data, making it easier to interpret.\n",
        "\n",
        "Formula\n",
        "If variance is\n",
        "𝑠\n",
        "2\n",
        "s\n",
        "2\n",
        "  (sample variance) or\n",
        "𝜎\n",
        "2\n",
        "σ\n",
        "2\n",
        "  (population variance), then:\n",
        "\n",
        "Standard Deviation\n",
        "=\n",
        "𝑠\n",
        "=\n",
        "𝑠\n",
        "2\n",
        "(sample)\n",
        "Standard Deviation=s=\n",
        "s\n",
        "2\n",
        "\n",
        "​\n",
        " (sample)\n",
        "Standard Deviation\n",
        "=\n",
        "𝜎\n",
        "=\n",
        "𝜎\n",
        "2\n",
        "(population)\n",
        "Standard Deviation=σ=\n",
        "σ\n",
        "2\n",
        "\n",
        "​\n",
        " (population)\n",
        "Why is Standard Deviation Important?\n",
        "Measures Spread in Original Units\n",
        "Unlike variance, which is in squared units, standard deviation is in the same units as the data, making it more intuitive.\n",
        "\n",
        "Describes Data Variability\n",
        "It tells you whether the data points are generally close to the mean (small SD) or widely spread out (large SD).\n",
        "\n",
        "Foundation for Statistical Analysis\n",
        "Many statistical tests, confidence intervals, and data interpretations rely on the standard deviation.\n",
        "\n",
        "Helps Identify Outliers\n",
        "Values far from the mean by more than 2 or 3 standard deviations are often considered outliers.\n",
        "\n",
        "Used in Real-World Decisions\n",
        "In finance (risk assessment), quality control (process variability), psychology (test score variability), and many other fields.\n",
        "\n",
        "Quick Example\n",
        "If the average test score is 80 with a standard deviation of 5, most students scored between 75 and 85 (assuming normal distribution).\n",
        "\n",
        "Summary Table\n",
        "\n",
        "| Measure            | Description                              | Units              |\n",
        "| ------------------ | ---------------------------------------- | ------------------ |\n",
        "| Variance           | Average squared deviation from mean      | Squared units      |\n",
        "| Standard Deviation | Square root of variance (spread measure) | Same units as data |\n"
      ],
      "metadata": {
        "id": "nF5motgef9HE"
      }
    },
    {
      "cell_type": "markdown",
      "source": [
        "# **16) Define and explain the term range in statistics.**\n",
        "\n",
        "ans-\n",
        "\n",
        "**What is Range in Statistics?**\n",
        "\n",
        "Range is the simplest measure of dispersion (spread) in a dataset. It tells you the difference between the largest and smallest values.\n",
        "\n",
        "**Definition:**\n",
        "\n",
        "The range is the difference between the maximum and minimum values in a dataset.\n",
        "\n",
        "Range\n",
        "=\n",
        "Maximum value\n",
        "−\n",
        "Minimum value\n",
        "Range=Maximum value−Minimum value\n",
        "Explanation:\n",
        "The range gives a quick idea of how spread out the data is.\n",
        "\n",
        "A large range means data points cover a wide span.\n",
        "\n",
        "A small range means data points are close together.\n",
        "\n",
        "It only considers two values, so it doesn’t give information about the distribution or variation of other data points.\n",
        "\n",
        "**Example:**\n",
        "\n",
        "Data: 3, 7, 9, 15, 20\n",
        "\n",
        "Maximum value = 20\n",
        "\n",
        "Minimum value = 3\n",
        "\n",
        "Range = 20 - 3 = 17\n",
        "\n",
        "**When to Use Range:**\n",
        "\n",
        "To get a quick, rough estimate of data spread.\n",
        "\n",
        "Useful in small datasets or when you want a simple measure of variability.\n",
        "\n",
        "**Limitations:**\n",
        "\n",
        "Sensitive to outliers (extreme values can distort the range).\n",
        "\n",
        "Doesn’t reflect how data is distributed between the minimum and maximum."
      ],
      "metadata": {
        "id": "IVboB30VgrIl"
      }
    },
    {
      "cell_type": "markdown",
      "source": [
        "# **17) What is the difference between variance and standard deviation?**\n",
        "\n",
        "ans-\n",
        "\n",
        "| Aspect             | Variance                                                                                   | Standard Deviation                                                             |\n",
        "| ------------------ | ------------------------------------------------------------------------------------------ | ------------------------------------------------------------------------------ |\n",
        "| **Definition**     | The average of the squared differences from the mean.                                      | The square root of the variance.                                               |\n",
        "| **Units**          | Squared units of the original data (e.g., if data in meters, variance in meters²).         | Same units as the original data (e.g., meters).                                |\n",
        "| **Interpretation** | Measures how spread out the data points are, but harder to interpret due to squared units. | Measures spread in original units, making it easier to understand variability. |\n",
        "| **Calculation**    | Sum of squared deviations from the mean divided by $n$ (population) or $n-1$ (sample).     | Square root of the variance.                                                   |\n",
        "| **Usefulness**     | Good for mathematical/statistical calculations (like in formulas).                         | More intuitive and commonly used to describe variability.                      |\n",
        "\n",
        "**In short:**\n",
        "\n",
        "Variance quantifies spread by averaging squared differences.\n",
        "\n",
        "Standard deviation expresses that spread in the original data units, making it easier to interpret.\n",
        "\n"
      ],
      "metadata": {
        "id": "d5w4fTqphMDM"
      }
    },
    {
      "cell_type": "markdown",
      "source": [
        "# **18) What is skewness in a dataset?**\n",
        "\n",
        "ans-\n",
        "\n",
        "**What is Skewness in a Dataset?**\n",
        "\n",
        "Skewness is a measure of the asymmetry or lack of symmetry in the distribution of data values in a dataset.\n",
        "\n",
        "**Explanation:**\n",
        "\n",
        "If the data is perfectly symmetrical, the left and right sides of the distribution are mirror images, and skewness is zero.\n",
        "\n",
        "If the data is skewed to the right (positively skewed), the tail on the right side is longer or fatter than the left side.\n",
        "\n",
        "If the data is skewed to the left (negatively skewed), the tail on the left side is longer or fatter than the right side.\n",
        "\n",
        "**Types of Skewness:**\n",
        "\n",
        "| Type                  | Description                               | Shape Example             |\n",
        "| --------------------- | ----------------------------------------- | ------------------------- |\n",
        "| **Zero Skewness**     | Symmetrical distribution                  | Normal bell curve         |\n",
        "| **Positive Skewness** | Tail extends to the right (higher values) | Right-skewed distribution |\n",
        "| **Negative Skewness** | Tail extends to the left (lower values)   | Left-skewed distribution  |\n",
        "\n",
        "**Why is Skewness Important?**\n",
        "\n",
        "Helps understand the shape of the data distribution.\n",
        "\n",
        "Influences choice of statistical methods (some assume normal distribution).\n",
        "\n",
        "Affects measures of central tendency (mean, median, mode shift differently in skewed data).\n",
        "\n",
        "Important in risk assessment, finance, and many other fields.\n",
        "\n",
        "**Example:**\n",
        "\n",
        "Income data is often positively skewed because a small number of people earn much higher incomes than most.\n",
        "\n",
        "Test scores might be negatively skewed if most students score high with only a few low scores.\n",
        "\n"
      ],
      "metadata": {
        "id": "6DSCItFaiud8"
      }
    },
    {
      "cell_type": "markdown",
      "source": [
        "# **19)  What does it mean if a dataset is positively or negatively skewed?**\n",
        "\n",
        "ans-\n",
        "\n",
        "**1. Positively Skewed Dataset (Right Skewed)**\n",
        "\n",
        "The tail on the right side (higher values) is longer or stretched out.\n",
        "\n",
        "Most data values cluster on the left (lower values).\n",
        "\n",
        "The mean is typically greater than the median because the high-value outliers pull the average up.\n",
        "\n",
        "Example: Income distribution, where most people earn lower to middle incomes, but a few earn very high incomes.\n",
        "\n",
        "Visual:"
      ],
      "metadata": {
        "id": "3ekkYelojNpL"
      }
    },
    {
      "cell_type": "code",
      "source": [
        "|----|----|----|----|----|----|----|----|--------->\n",
        "(low values)         (high values with long tail)\n"
      ],
      "metadata": {
        "id": "BYpDGXPejvbM"
      },
      "execution_count": null,
      "outputs": []
    },
    {
      "cell_type": "markdown",
      "source": [
        "2. **Negatively Skewed Dataset (Left Skewed)**\n",
        "\n",
        "The tail on the left side (lower values) is longer or stretched out.\n",
        "\n",
        "Most data values cluster on the right (higher values).\n",
        "\n",
        "The mean is typically less than the median because the low-value outliers pull the average down.\n",
        "\n",
        "Example: Test scores where most students score high, but a few score very low.\n",
        "\n",
        "Visual:"
      ],
      "metadata": {
        "id": "ThdykOiTjxwE"
      }
    },
    {
      "cell_type": "code",
      "source": [
        "<---------|----|----|----|----|----|----|----|----|\n",
        "(low values with long tail)          (high values)\n"
      ],
      "metadata": {
        "id": "rx_gIFQXj57d"
      },
      "execution_count": null,
      "outputs": []
    },
    {
      "cell_type": "markdown",
      "source": [
        "Summary Table:\n",
        "\n",
        "| Skewness Type | Tail Direction | Mean vs Median | Example             |\n",
        "| ------------- | -------------- | -------------- | ------------------- |\n",
        "| Positive Skew | Right (higher) | Mean > Median  | Income distribution |\n",
        "| Negative Skew | Left (lower)   | Mean < Median  | Exam scores         |\n"
      ],
      "metadata": {
        "id": "gax4XDCgj6uu"
      }
    },
    {
      "cell_type": "markdown",
      "source": [],
      "metadata": {
        "id": "9tc0aEb_j-ec"
      }
    },
    {
      "cell_type": "markdown",
      "source": [
        "# **20) Define and explain kurtosis.**\n",
        "\n",
        "ans-\n",
        "\n",
        "**What is Kurtosis?**\n",
        "\n",
        "Kurtosis is a statistical measure that describes the shape of a distribution’s tails and the peakedness (sharpness or flatness) of its center compared to a normal distribution.\n",
        "\n",
        " Definition:\n",
        "Kurtosis measures how much of the data is in the tails and how sharp or flat the peak is. It helps identify extreme values (outliers) in a dataset.\n",
        "\n",
        " Types of Kurtosis:\n",
        "\n",
        "| Type            | Description                                                                       | Visual Shape    |\n",
        "| --------------- | --------------------------------------------------------------------------------- | --------------- |\n",
        "| **Mesokurtic**  | Normal kurtosis (value ≈ 0); moderate tails and peak (like a normal distribution) | Bell-shaped     |\n",
        "| **Leptokurtic** | High kurtosis (> 0); sharper peak and **fatter tails** (more outliers)            | Tall and narrow |\n",
        "| **Platykurtic** | Low kurtosis (< 0); flatter peak and **thinner tails** (fewer outliers)           | Wide and flat   |\n",
        "\n",
        "\n",
        " **Mathematical Insight:**\n",
        "\n",
        "Kurtosis is often measured as excess kurtosis, where:\n",
        "\n",
        "Excess Kurtosis\n",
        "=\n",
        "Kurtosis\n",
        "−\n",
        "3\n",
        "Excess Kurtosis=Kurtosis−3\n",
        "Excess kurtosis = 0 → mesokurtic (normal)\n",
        "\n",
        "> 0 → leptokurtic\n",
        "\n",
        "< 0 → platykurtic\n",
        "\n",
        " **Why is Kurtosis Important?**\n",
        "\n",
        "Helps detect outliers and data risk (especially in finance and quality control).\n",
        "\n",
        "Indicates whether extreme values are more or less common than in a normal distribution.\n",
        "\n",
        "Useful in assessing whether data meets assumptions for statistical tests.\n",
        "\n",
        " **Quick Example:**\n",
        "\n",
        "A leptokurtic distribution might represent stock market returns with many small changes but occasional large swings.\n",
        "\n",
        "A platykurtic distribution could represent something like human height, which doesn’t have many extreme values."
      ],
      "metadata": {
        "id": "tzvnhE_ckv9l"
      }
    },
    {
      "cell_type": "markdown",
      "source": [
        "# **21)What is the purpose of covariance?**\n",
        "\n",
        "ans- The purpose of covariance is to measure how two variables change together — in other words, to determine the direction of the linear relationship between them.\n",
        "\n",
        "In Detail:\n",
        "If covariance is positive, it means that as one variable increases, the other tends to increase as well.\n",
        "\n",
        "If covariance is negative, it means that as one variable increases, the other tends to decrease.\n",
        "\n",
        "If covariance is near zero, it suggests little to no linear relationship between the variables.\n",
        "\n",
        "Purpose in Practice:\n",
        "Identify relationships between variables — useful in data analysis and statistics.\n",
        "\n",
        "Basis for correlation — correlation is a standardized form of covariance.\n",
        "\n",
        "Used in portfolio theory in finance — to understand how assets move together, helping in diversification and risk management.\n",
        "\n",
        "Foundational in multivariate statistics — covariance matrices are essential in techniques like Principal Component Analysis (PCA).\n",
        "\n",
        "Example:\n",
        "If you analyze students' study hours and exam scores:\n",
        "\n",
        "A positive covariance would suggest that students who study more tend to score higher.\n",
        "\n",
        "A negative covariance would suggest that more study hours lead to lower scores (unlikely, but possible).\n",
        "\n",
        "A zero covariance would suggest no consistent pattern between studying and scores.\n",
        "\n",
        "Formula::\n",
        "\n",
        "For two variables\n",
        "𝑋\n",
        "X and\n",
        "𝑌\n",
        "Y with means\n",
        "𝑋\n",
        "ˉ\n",
        "X\n",
        "ˉ\n",
        "  and\n",
        "𝑌\n",
        "ˉ\n",
        "Y\n",
        "ˉ\n",
        " :\n",
        "\n",
        " Cov(X,Y)=\n",
        "n\n",
        "1\n",
        "​\n",
        "  \n",
        "i=1\n",
        "∑\n",
        "n\n",
        "​\n",
        " (X\n",
        "i\n",
        "​\n",
        " −\n",
        "X\n",
        "ˉ\n",
        " )(Y\n",
        "i\n",
        "​\n",
        " −\n",
        "Y\n",
        "ˉ\n",
        " )"
      ],
      "metadata": {
        "id": "jGppU9hwIeHy"
      }
    },
    {
      "cell_type": "markdown",
      "source": [
        "# **22)What does correlation measure in statistics?**\n",
        "\n",
        "ans- In statistics, correlation measures the strength and direction of a linear relationship between two variables.\n",
        "\n",
        "Key Features of Correlation:\n",
        "Direction:\n",
        "\n",
        "Positive correlation: As one variable increases, the other tends to increase.\n",
        "\n",
        "Negative correlation: As one variable increases, the other tends to decrease.\n",
        "\n",
        "Strength:\n",
        "\n",
        "Measured by the correlation coefficient, which ranges from –1 to +1:\n",
        "\n",
        "+\n",
        "1\n",
        "+1: Perfect positive correlation\n",
        "\n",
        "−\n",
        "1\n",
        "−1: Perfect negative correlation\n",
        "\n",
        "0\n",
        "0: No linear correlation\n",
        "\n",
        "Most Common Type: Pearson Correlation Coefficient (r)\n",
        "𝑟\n",
        "=\n",
        "Cov\n",
        "(\n",
        "𝑋\n",
        ",\n",
        "𝑌\n",
        ")\n",
        "𝜎\n",
        "𝑋\n",
        "𝜎\n",
        "𝑌\n",
        "r=\n",
        "σ\n",
        "X\n",
        "​\n",
        " σ\n",
        "Y\n",
        "​\n",
        "\n",
        "Cov(X,Y)\n",
        "​\n",
        "\n",
        "Where:\n",
        "\n",
        "Cov\n",
        "(\n",
        "𝑋\n",
        ",\n",
        "𝑌\n",
        ")\n",
        "Cov(X,Y) is the covariance of variables X and Y\n",
        "\n",
        "𝜎\n",
        "𝑋\n",
        "σ\n",
        "X\n",
        "​\n",
        "  and\n",
        "𝜎\n",
        "𝑌\n",
        "σ\n",
        "Y\n",
        "​\n",
        "  are the standard deviations of X and Y\n",
        "\n",
        "\n",
        "Example:\n",
        "\n",
        "| Hours Studied | Exam Score |\n",
        "| ------------- | ---------- |\n",
        "| 2             | 50         |\n",
        "| 4             | 70         |\n",
        "| 6             | 85         |\n",
        "\n",
        "This would likely show a strong positive correlation (close to +1), meaning more study hours tend to result in higher scores.\n",
        "\n",
        "Important Notes:\n",
        "Correlation does not imply causation.\n",
        "\n",
        "Correlation only measures linear relationships. Nonlinear relationships may exist even when correlation is close to zero.\n",
        "\n",
        "Summary:\n",
        "\n",
        "Correlation tells you how strongly and in what direction two variables move together in a linear fashion."
      ],
      "metadata": {
        "id": "oKWoAaTmI7pp"
      }
    },
    {
      "cell_type": "markdown",
      "source": [
        "# ** 23) What is the difference between covariance and correlation?**\n",
        "\n",
        "ans- The difference between covariance and correlation lies in how they measure the relationship between two variables and how their results are interpreted and scaled.\n",
        "\n",
        "Key Differences:\n",
        "\n",
        "| Feature              | **Covariance**                                                       | **Correlation**                                                        |\n",
        "| -------------------- | -------------------------------------------------------------------- | ---------------------------------------------------------------------- |\n",
        "| **Definition**       | Measures the direction of a linear relationship                      | Measures both the direction and **strength** of a linear relationship  |\n",
        "| **Formula**          | $\\text{Cov}(X, Y) = \\frac{1}{n} \\sum (X_i - \\bar{X})(Y_i - \\bar{Y})$ | $r = \\frac{\\text{Cov}(X, Y)}{\\sigma_X \\sigma_Y}$                       |\n",
        "| **Scale**            | Not standardized — depends on the units of variables                 | Standardized — always between **-1 and +1**                            |\n",
        "| **Interpretability** | Harder to interpret directly (e.g., what does 120 mean?)             | Easy to interpret (e.g., +0.8 = strong positive correlation)           |\n",
        "| **Unit Sensitivity** | Affected by the units of variables                                   | **Unitless** — not affected by changes in scale or unit                |\n",
        "| **Usage**            | Used to detect direction; also used in covariance matrices           | Used to assess both **strength and direction** of linear relationships |\n",
        "\n",
        "Example:\n",
        "\n",
        "Let’s say you're analyzing height (in cm) and weight (in kg):\n",
        "\n",
        "Covariance might be something like +35.4, but the number has no clear meaning without context.\n",
        "\n",
        "Correlation might be +0.85, which tells you there's a strong positive relationship.\n",
        "\n",
        "Summary:\n",
        "\n",
        "✅ Covariance tells you whether variables move together.\n",
        "✅ Correlation tells you how strongly they move together — and in what direction — on a standardized scale.\n",
        "\n",
        "Use correlation when you need clear, scale-independent insight into how two variables are related."
      ],
      "metadata": {
        "id": "Zbwm0yCzJRsY"
      }
    },
    {
      "cell_type": "markdown",
      "source": [
        "# **23) What are some real-world applications of statistics?**\n",
        "\n",
        "ans- Statistics has a wide range of real-world applications across many fields. It helps in making decisions, identifying patterns, forecasting, and optimizing outcomes. Here are some key applications:\n",
        "\n",
        "📊 1. Business and Economics\n",
        "Market research: Analyzing consumer behavior, preferences, and trends.\n",
        "\n",
        "Forecasting sales and revenue based on past data.\n",
        "\n",
        "Quality control: Monitoring production processes and reducing defects.\n",
        "\n",
        "Risk analysis: Used in insurance and finance to assess risk.\n",
        "\n",
        "🧬 2. Healthcare and Medicine\n",
        "Clinical trials: Evaluating the effectiveness of new drugs or treatments.\n",
        "\n",
        "Epidemiology: Studying the spread and control of diseases (e.g., COVID-19 data modeling).\n",
        "\n",
        "Medical diagnostics: Using statistical models to detect diseases early.\n",
        "\n",
        "Public health policy: Guiding vaccination programs or health interventions.\n",
        "\n",
        "🎓 3. Education\n",
        "Analyzing test scores to improve teaching methods and curriculum.\n",
        "\n",
        "Standardized testing: Designing and interpreting exams like SAT, GRE.\n",
        "\n",
        "School performance evaluation: Using student data to measure outcomes.\n",
        "\n",
        "🌍 4. Government and Policy Making\n",
        "Census data analysis: Allocating resources, drawing electoral boundaries.\n",
        "\n",
        "Crime statistics: Identifying crime trends and planning interventions.\n",
        "\n",
        "Economic planning: Using statistics to set budgets and growth targets.\n",
        "\n",
        "💻 5. Technology and Data Science\n",
        "Machine learning and AI: Many algorithms are based on statistical models.\n",
        "\n",
        "Data analytics: Extracting insights from large datasets (big data).\n",
        "\n",
        "A/B testing: Comparing two product versions to optimize user experience.\n",
        "\n",
        "📈 6. Finance and Investing\n",
        "Portfolio optimization: Minimizing risk and maximizing returns.\n",
        "\n",
        "Stock market analysis: Identifying trends and predicting prices.\n",
        "\n",
        "Credit scoring: Assessing the likelihood of loan repayment.\n",
        "\n",
        "🚗 7. Manufacturing and Industry\n",
        "Process optimization: Improving efficiency and reducing waste.\n",
        "\n",
        "Reliability testing: Determining product lifespan and failure rates.\n",
        "\n",
        "🌱 8. Agriculture and Environment\n",
        "Crop yield forecasting: Based on weather and soil conditions.\n",
        "\n",
        "Environmental statistics: Tracking pollution, climate change, and biodiversity.\n",
        "\n",
        "✈️ 9. Transportation and Logistics\n",
        "Traffic flow analysis: Optimizing road usage and reducing congestion.\n",
        "\n",
        "Route optimization: Reducing delivery times and fuel costs.\n",
        "\n",
        "Summary:\n",
        "Statistics is the backbone of informed decision-making — it helps us understand variability, uncover patterns, make predictions, and improve systems across almost every sector of modern life.\n",
        "\n",
        "\n",
        "\n",
        "\n",
        "\n",
        "\n",
        "\n",
        "\n"
      ],
      "metadata": {
        "id": "4BphHhUxJrxp"
      }
    },
    {
      "cell_type": "markdown",
      "source": [
        "# **Practical**\n",
        "\n"
      ],
      "metadata": {
        "id": "7pA3t6aOJ7B5"
      }
    },
    {
      "cell_type": "markdown",
      "source": [
        "# **1)How do you calculate the mean, median, and mode of a dataset?**\n",
        "\n",
        "ans- To calculate the mean, median, and mode of a dataset, follow these steps:\n",
        "\n",
        "📌 1. Mean (Average)\n",
        "Formula:\n",
        "\n",
        "Mean=\n",
        "Number of values\n",
        "Sum of all values\n",
        "​\n",
        "\n",
        "Steps:\n",
        "Add all the numbers in the dataset.\n",
        "\n",
        "Divide the sum by the number of data points.\n",
        "\n",
        "Example:\n",
        "Dataset:\n",
        "[\n",
        "3\n",
        ",\n",
        "5\n",
        ",\n",
        "7\n",
        ",\n",
        "10\n",
        "]\n",
        "[3,5,7,10]\n",
        "Mean =\n",
        "3\n",
        "+\n",
        "5\n",
        "+\n",
        "7\n",
        "+\n",
        "10\n",
        "4\n",
        "=\n",
        "25\n",
        "4\n",
        "=\n",
        "6.25\n",
        "4\n",
        "3+5+7+10\n",
        "​\n",
        " =\n",
        "4\n",
        "25\n",
        "​\n",
        " =6.25\n",
        "\n",
        "📌 2. Median (Middle Value)\n",
        "The median is the middle number when the data is sorted in order.\n",
        "\n",
        "Steps:\n",
        "Sort the data in ascending order.\n",
        "\n",
        "If odd number of items, the median is the middle value.\n",
        "\n",
        "If even number of items, the median is the average of the two middle values.\n",
        "\n",
        "Examples:\n",
        "Dataset (odd):\n",
        "[\n",
        "1\n",
        ",\n",
        "3\n",
        ",\n",
        "5\n",
        "]\n",
        "[1,3,5] → Median = 3\n",
        "\n",
        "Dataset (even):\n",
        "[\n",
        "2\n",
        ",\n",
        "4\n",
        ",\n",
        "6\n",
        ",\n",
        "8\n",
        "]\n",
        "[2,4,6,8] → Median =\n",
        "4\n",
        "+\n",
        "6\n",
        "2\n",
        "=\n",
        "5\n",
        "2\n",
        "4+6\n",
        "​\n",
        " =5\n",
        "\n",
        "📌 3. Mode (Most Frequent Value)\n",
        "The mode is the value(s) that appear most often in the dataset.\n",
        "\n",
        "Steps:\n",
        "Count how many times each value appears.\n",
        "\n",
        "Identify the value(s) with the highest frequency.\n",
        "\n",
        "Examples:\n",
        "Dataset:\n",
        "[\n",
        "2\n",
        ",\n",
        "4\n",
        ",\n",
        "4\n",
        ",\n",
        "6\n",
        ",\n",
        "8\n",
        "]\n",
        "[2,4,4,6,8] → Mode = 4\n",
        "\n",
        "Dataset:\n",
        "[\n",
        "1\n",
        ",\n",
        "2\n",
        ",\n",
        "2\n",
        ",\n",
        "3\n",
        ",\n",
        "3\n",
        "]\n",
        "[1,2,2,3,3] → Mode = 2 and 3 (bimodal)\n",
        "\n",
        "Dataset:\n",
        "[\n",
        "5\n",
        ",\n",
        "6\n",
        ",\n",
        "7\n",
        ",\n",
        "8\n",
        "]\n",
        "[5,6,7,8] → No mode (all occur once)\n",
        "\n",
        "Summary Table:\n",
        "\n",
        "| Measure | What it Represents         | How to Calculate                          |\n",
        "| ------- | -------------------------- | ----------------------------------------- |\n",
        "| Mean    | Average value              | Sum of values ÷ Number of values          |\n",
        "| Median  | Middle value (when sorted) | Middle element (or average of two middle) |\n",
        "| Mode    | Most frequent value        | Count occurrences and find the maximum    |\n"
      ],
      "metadata": {
        "id": "97suvoh8J9yh"
      }
    },
    {
      "cell_type": "markdown",
      "source": [
        "# **2)Write a Python program to compute the variance and standard deviation of a dataset?**\n",
        "\n",
        "ans-"
      ],
      "metadata": {
        "id": "wiFBozKoKZWZ"
      }
    },
    {
      "cell_type": "code",
      "source": [
        "import math\n",
        "\n",
        "# Sample dataset\n",
        "data = [10, 12, 23, 23, 16, 23, 21, 16]\n",
        "\n",
        "# Step 1: Calculate the mean\n",
        "mean = sum(data) / len(data)\n",
        "\n",
        "# Step 2: Calculate the variance\n",
        "variance = sum((x - mean) ** 2 for x in data) / len(data)\n",
        "\n",
        "# Step 3: Calculate the standard deviation\n",
        "std_deviation = math.sqrt(variance)\n",
        "\n",
        "# Output the results\n",
        "print(\"Dataset:\", data)\n",
        "print(\"Mean:\", mean)\n",
        "print(\"Variance:\", variance)\n",
        "print(\"Standard Deviation:\", std_deviation)\n"
      ],
      "metadata": {
        "colab": {
          "base_uri": "https://localhost:8080/"
        },
        "id": "M50wHMQuKscp",
        "outputId": "38c6dbdc-68c7-48c0-c3e1-d386d04619d2"
      },
      "execution_count": null,
      "outputs": [
        {
          "output_type": "stream",
          "name": "stdout",
          "text": [
            "Dataset: [10, 12, 23, 23, 16, 23, 21, 16]\n",
            "Mean: 18.0\n",
            "Variance: 24.0\n",
            "Standard Deviation: 4.898979485566356\n"
          ]
        }
      ]
    },
    {
      "cell_type": "markdown",
      "source": [
        "Notes:\n",
        "\n",
        "This computes the population variance and standard deviation.\n",
        "\n",
        "For sample variance and standard deviation, divide by len(data) - 1 instead of len(data)."
      ],
      "metadata": {
        "id": "6kQV2JoTK1FB"
      }
    },
    {
      "cell_type": "markdown",
      "source": [
        "# **3)Create a dataset and classify it into nominal, ordinal, interval, and ratio types?**\n",
        "\n",
        "ans- Here's a small dataset along with classification into the four levels of measurement: nominal, ordinal, interval, and ratio.\n",
        "\n",
        " Sample Dataset: Student Survey:\n",
        "\n",
        " | Student | Gender | Satisfaction Level | Temperature (°C) | Test Score (%) |\n",
        "| ------- | ------ | ------------------ | ---------------- | -------------- |\n",
        "| A       | Male   | High               | 25               | 88             |\n",
        "| B       | Female | Medium             | 30               | 76             |\n",
        "| C       | Female | Low                | 20               | 92             |\n",
        "| D       | Male   | High               | 28               | 85             |\n",
        "\n",
        "\n",
        "Classification of Data Types:\n",
        "\n",
        "| Column                 | Example Values    | Type         | Explanation                                                         |\n",
        "| ---------------------- | ----------------- | ------------ | ------------------------------------------------------------------- |\n",
        "| **Gender**             | Male, Female      | **Nominal**  | Categories with no order                                            |\n",
        "| **Satisfaction Level** | Low, Medium, High | **Ordinal**  | Ordered categories (Low < Medium < High)                            |\n",
        "| **Temperature (°C)**   | 20, 25, 30        | **Interval** | Equal intervals, but no true zero (0°C ≠ absence of temperature)    |\n",
        "| **Test Score (%)**     | 76, 85, 88, 92    | **Ratio**    | Has a true zero, and ratios are meaningful (e.g., 80% is twice 40%) |\n",
        "\n",
        "\n",
        " Summary of Scales:\n",
        "\n",
        " | Type     | Has Order | Equal Intervals | True Zero | Example from Dataset |\n",
        "| -------- | --------- | --------------- | --------- | -------------------- |\n",
        "| Nominal  | ❌         | ❌               | ❌         | Gender               |\n",
        "| Ordinal  | ✅         | ❌               | ❌         | Satisfaction Level   |\n",
        "| Interval | ✅         | ✅               | ❌         | Temperature (°C)     |\n",
        "| Ratio    | ✅         | ✅               | ✅         | Test Score (%)       |\n"
      ],
      "metadata": {
        "id": "x9Ivv8ylK516"
      }
    },
    {
      "cell_type": "markdown",
      "source": [
        "# **4)Implement sampling techniques like random sampling and stratified sampling?**\n",
        "\n",
        "ans-Here's how you can implement random sampling and stratified sampling in Python using the pandas and sklearn libraries.\n",
        "\n",
        "✅ 1. Random Sampling\n",
        "\n",
        "Random sampling selects elements randomly from the population, giving each member an equal chance of selection."
      ],
      "metadata": {
        "id": "cRtcX3AoLVtq"
      }
    },
    {
      "cell_type": "code",
      "source": [
        "import pandas as pd\n",
        "\n",
        "# Sample dataset\n",
        "data = {\n",
        "    'Name': ['Alice', 'Bob', 'Charlie', 'David', 'Eva', 'Frank', 'Grace', 'Helen'],\n",
        "    'Gender': ['F', 'M', 'M', 'M', 'F', 'M', 'F', 'F'],\n",
        "    'Score': [85, 78, 90, 72, 88, 75, 95, 80]\n",
        "}\n",
        "\n",
        "df = pd.DataFrame(data)\n",
        "\n",
        "# Randomly sample 3 students\n",
        "random_sample = df.sample(n=3, random_state=42)\n",
        "\n",
        "print(\"Random Sample:\")\n",
        "print(random_sample)\n"
      ],
      "metadata": {
        "colab": {
          "base_uri": "https://localhost:8080/"
        },
        "id": "8FJabBhULfOw",
        "outputId": "b7344893-48b3-45ee-8a75-55dafba9a1ec"
      },
      "execution_count": null,
      "outputs": [
        {
          "output_type": "stream",
          "name": "stdout",
          "text": [
            "Random Sample:\n",
            "    Name Gender  Score\n",
            "1    Bob      M     78\n",
            "5  Frank      M     75\n",
            "0  Alice      F     85\n"
          ]
        }
      ]
    },
    {
      "cell_type": "markdown",
      "source": [
        "2. Stratified Sampling:\n",
        "\n",
        "Stratified sampling divides the population into subgroups (strata) and randomly samples from each stratum proportionally.\n",
        "\n",
        "We’ll stratify based on the Gender column:"
      ],
      "metadata": {
        "id": "gBa32DW5LjVR"
      }
    },
    {
      "cell_type": "code",
      "source": [
        "from sklearn.model_selection import train_test_split\n",
        "\n",
        "# Stratified sample: 50% from each gender\n",
        "stratified_sample, _ = train_test_split(\n",
        "    df,\n",
        "    stratify=df['Gender'],\n",
        "    test_size=0.5,  # you can change this to adjust sample size\n",
        "    random_state=42\n",
        ")\n",
        "\n",
        "print(\"\\nStratified Sample:\")\n",
        "print(stratified_sample)\n"
      ],
      "metadata": {
        "colab": {
          "base_uri": "https://localhost:8080/"
        },
        "id": "tlFa7MMkLk5B",
        "outputId": "57ef3283-f627-4fc0-80cf-bf3a3d7bfa7c"
      },
      "execution_count": null,
      "outputs": [
        {
          "output_type": "stream",
          "name": "stdout",
          "text": [
            "\n",
            "Stratified Sample:\n",
            "      Name Gender  Score\n",
            "5    Frank      M     75\n",
            "4      Eva      F     88\n",
            "7    Helen      F     80\n",
            "2  Charlie      M     90\n"
          ]
        }
      ]
    },
    {
      "cell_type": "markdown",
      "source": [
        "Stratified Sample:"
      ],
      "metadata": {
        "id": "Sb92Wu3_LpkR"
      }
    },
    {
      "cell_type": "code",
      "source": [
        "    Name Gender  Score\n",
        "0  Alice      F     85\n",
        "1    Bob      M     78\n",
        "4    Eva      F     88\n",
        "3  David      M     72\n"
      ],
      "metadata": {
        "id": "Xfb8roJbLrcR"
      },
      "execution_count": null,
      "outputs": []
    },
    {
      "cell_type": "markdown",
      "source": [
        "# **5) Write a Python function to calculate the range of a dataset?**\n",
        "\n",
        "ans- Here's a simple Python function to calculate the range of a dataset.\n",
        "\n",
        "✅ Definition:\n",
        "\n",
        "The range is the difference between the maximum and minimum values in a dataset.\n",
        "\n",
        "Range\n",
        "=\n",
        "Max\n",
        "−\n",
        "Min\n",
        "Range=Max−Min\n",
        "🧾 Python Function:"
      ],
      "metadata": {
        "id": "E1QLNqAVLsfB"
      }
    },
    {
      "cell_type": "code",
      "source": [
        "def calculate_range(data):\n",
        "    if not data:\n",
        "        return None  # Handle empty list\n",
        "    return max(data) - min(data)\n",
        "\n",
        "# Example usage\n",
        "dataset = [12, 7, 22, 5, 15, 30, 18]\n",
        "result = calculate_range(dataset)\n",
        "\n",
        "print(\"Dataset:\", dataset)\n",
        "print(\"Range:\", result)\n"
      ],
      "metadata": {
        "colab": {
          "base_uri": "https://localhost:8080/"
        },
        "id": "_UWF5ArUMEMR",
        "outputId": "a2aeef10-aa97-40dd-f0ce-050f5ec0f4ae"
      },
      "execution_count": null,
      "outputs": [
        {
          "output_type": "stream",
          "name": "stdout",
          "text": [
            "Dataset: [12, 7, 22, 5, 15, 30, 18]\n",
            "Range: 25\n"
          ]
        }
      ]
    },
    {
      "cell_type": "markdown",
      "source": [
        "# **6) Create a dataset and plot its histogram to visualize skewness?**\n",
        "\n",
        "ans- Creates a skewed dataset\n",
        "\n",
        "Plots a histogram\n",
        "\n",
        "Calculates skewness\n",
        "\n",
        "Visualizes the skewness using Seaborn and Matplotlib\n",
        "\n",
        "🧪 Example: Skewed Dataset (Right-skewed)"
      ],
      "metadata": {
        "id": "2Go50G_yMIXL"
      }
    },
    {
      "cell_type": "code",
      "source": [
        "import numpy as np\n",
        "import pandas as pd\n",
        "import seaborn as sns\n",
        "import matplotlib.pyplot as plt\n",
        "from scipy.stats import skew\n",
        "\n",
        "# Step 1: Create a right-skewed dataset\n",
        "np.random.seed(42)\n",
        "data = np.random.exponential(scale=2.0, size=1000)\n",
        "\n",
        "# Step 2: Convert to DataFrame for convenience\n",
        "df = pd.DataFrame({'Value': data})\n",
        "\n",
        "# Step 3: Calculate skewness\n",
        "skewness_value = skew(df['Value'])\n",
        "\n",
        "# Step 4: Plot histogram\n",
        "plt.figure(figsize=(8, 5))\n",
        "sns.histplot(df['Value'], bins=30, kde=True, color='skyblue')\n",
        "plt.title(f'Histogram (Skewness = {skewness_value:.2f})')\n",
        "plt.xlabel('Value')\n",
        "plt.ylabel('Frequency')\n",
        "plt.grid(True)\n",
        "plt.show()\n"
      ],
      "metadata": {
        "colab": {
          "base_uri": "https://localhost:8080/",
          "height": 487
        },
        "id": "zR5jt2qzMRpq",
        "outputId": "658ebadd-2cde-4ddf-ad85-620d3306fe36"
      },
      "execution_count": null,
      "outputs": [
        {
          "output_type": "display_data",
          "data": {
            "text/plain": [
              "<Figure size 800x500 with 1 Axes>"
            ],
            "image/png": "[encoded data removed]"
          },
          "metadata": {}
        }
      ]
    },
    {
      "cell_type": "markdown",
      "source": [
        " Explanation:\n",
        "\n",
        "Dataset: Generated using an exponential distribution, which is right-skewed.\n",
        "\n",
        "skew(): Computes the skewness — a positive value indicates right skew.\n",
        "\n",
        "sns.histplot(): Plots the histogram with a KDE (kernel density estimate) curve.\n",
        "\n",
        "✅ Output:\n",
        "\n",
        "The histogram will show:\n",
        "\n",
        "A peak near lower values.\n",
        "\n",
        "A long tail to the right, confirming positive skewness."
      ],
      "metadata": {
        "id": "ynoxZEytMXyh"
      }
    },
    {
      "cell_type": "markdown",
      "source": [
        "# **7) Calculate skewness and kurtosis of a dataset using Python libraries?**\n",
        "\n",
        "ans- Example code:\n"
      ],
      "metadata": {
        "id": "lbeskQcKMiXY"
      }
    },
    {
      "cell_type": "code",
      "source": [
        "import numpy as np\n",
        "import pandas as pd\n",
        "from scipy.stats import skew, kurtosis\n",
        "\n",
        "# Sample dataset\n",
        "data = [12, 15, 12, 18, 22, 25, 30, 28, 30, 35, 40, 45, 50]\n",
        "\n",
        "# Convert to pandas Series (optional, but convenient)\n",
        "series = pd.Series(data)\n",
        "\n",
        "# Calculate skewness\n",
        "skewness_value = skew(series)\n",
        "\n",
        "# Calculate kurtosis (Fisher's definition: normal distribution = 0)\n",
        "kurtosis_value = kurtosis(series)\n",
        "\n",
        "print(\"Dataset:\", data)\n",
        "print(f\"Skewness: {skewness_value:.4f}\")\n",
        "print(f\"Kurtosis: {kurtosis_value:.4f}\")\n"
      ],
      "metadata": {
        "colab": {
          "base_uri": "https://localhost:8080/"
        },
        "id": "lc4RZHWRMzp5",
        "outputId": "04a2bda8-3682-4823-c379-f98a77d4f38c"
      },
      "execution_count": null,
      "outputs": [
        {
          "output_type": "stream",
          "name": "stdout",
          "text": [
            "Dataset: [12, 15, 12, 18, 22, 25, 30, 28, 30, 35, 40, 45, 50]\n",
            "Skewness: 0.3233\n",
            "Kurtosis: -0.9293\n"
          ]
        }
      ]
    },
    {
      "cell_type": "markdown",
      "source": [
        "Explanation:\n",
        "\n",
        "Skewness measures the asymmetry of the data distribution.\n",
        "\n",
        "Positive skew means tail on the right.\n",
        "\n",
        "Negative skew means tail on the left.\n",
        "\n",
        "Kurtosis measures the \"tailedness\" of the distribution.\n",
        "\n",
        "For scipy.stats.kurtosis, the default is Fisher’s definition (normal = 0).\n",
        "\n",
        "Positive kurtosis: heavy tails (leptokurtic).\n",
        "\n",
        "Negative kurtosis: light tails (platykurtic).\n",
        "\n"
      ],
      "metadata": {
        "id": "B9AjWCtPM38q"
      }
    },
    {
      "cell_type": "markdown",
      "source": [
        "# **8)Generate a dataset and demonstrate positive and negative skewness?**\n",
        "\n",
        "ans- Here’s a Python example that generates two datasets — one with positive skewness and another with negative skewness — and then plots their histograms with skewness values:"
      ],
      "metadata": {
        "id": "8IxPHnmUM8PQ"
      }
    },
    {
      "cell_type": "code",
      "source": [
        "import numpy as np\n",
        "import matplotlib.pyplot as plt\n",
        "import seaborn as sns\n",
        "from scipy.stats import skew\n",
        "\n",
        "np.random.seed(0)\n",
        "\n",
        "# Generate a positively skewed dataset (exponential distribution)\n",
        "positive_skew_data = np.random.exponential(scale=2, size=1000)\n",
        "\n",
        "# Generate a negatively skewed dataset by reflecting positive skew data\n",
        "negative_skew_data = -positive_skew_data + positive_skew_data.max() + positive_skew_data.min()\n",
        "\n",
        "# Calculate skewness\n",
        "pos_skew = skew(positive_skew_data)\n",
        "neg_skew = skew(negative_skew_data)\n",
        "\n",
        "# Plotting\n",
        "plt.figure(figsize=(14, 5))\n",
        "\n",
        "# Positive skew plot\n",
        "plt.subplot(1, 2, 1)\n",
        "sns.histplot(positive_skew_data, bins=30, kde=True, color='orange')\n",
        "plt.title(f'Positive Skewness: {pos_skew:.2f}')\n",
        "plt.xlabel('Value')\n",
        "plt.ylabel('Frequency')\n",
        "\n",
        "# Negative skew plot\n",
        "plt.subplot(1, 2, 2)\n",
        "sns.histplot(negative_skew_data, bins=30, kde=True, color='teal')\n",
        "plt.title(f'Negative Skewness: {neg_skew:.2f}')\n",
        "plt.xlabel('Value')\n",
        "plt.ylabel('Frequency')\n",
        "\n",
        "plt.tight_layout()\n",
        "plt.show()\n"
      ],
      "metadata": {
        "colab": {
          "base_uri": "https://localhost:8080/",
          "height": 507
        },
        "id": "BkAzqL3dNEKo",
        "outputId": "c1d82304-13f4-4bbc-d193-d767a793a885"
      },
      "execution_count": null,
      "outputs": [
        {
          "output_type": "display_data",
          "data": {
            "text/plain": [
              "<Figure size 1400x500 with 2 Axes>"
            ],
            "image/png": "[encoded data removed]"
          },
          "metadata": {}
        }
      ]
    },
    {
      "cell_type": "markdown",
      "source": [
        "Explanation:\n",
        "\n",
        "Positive skew: Data has a long tail to the right.\n",
        "\n",
        "Negative skew: Data has a long tail to the left (created by reflecting the positive skewed data).\n",
        "\n",
        "Skewness values confirm the direction of skew."
      ],
      "metadata": {
        "id": "SG7L_pwfNHzL"
      }
    },
    {
      "cell_type": "markdown",
      "source": [
        "# **9) Write a Python script to calculate covariance between two datasets?**\n",
        "\n",
        "ans- Here’s a simple Python script to calculate the covariance between two datasets using basic Python and also using NumPy for convenience:\n",
        "\n",
        "Method 1: Using basic Python"
      ],
      "metadata": {
        "id": "zTgTx-2SNMRx"
      }
    },
    {
      "cell_type": "code",
      "source": [
        "def calculate_covariance(x, y):\n",
        "    if len(x) != len(y):\n",
        "        raise ValueError(\"Datasets must have the same length\")\n",
        "\n",
        "    n = len(x)\n",
        "    mean_x = sum(x) / n\n",
        "    mean_y = sum(y) / n\n",
        "\n",
        "    covariance = sum((x[i] - mean_x) * (y[i] - mean_y) for i in range(n)) / n\n",
        "    return covariance\n",
        "\n",
        "# Example datasets\n",
        "data_x = [2, 4, 6, 8, 10]\n",
        "data_y = [1, 3, 5, 7, 9]\n",
        "\n",
        "cov = calculate_covariance(data_x, data_y)\n",
        "print(f\"Covariance (basic Python): {cov}\")\n"
      ],
      "metadata": {
        "colab": {
          "base_uri": "https://localhost:8080/"
        },
        "id": "frRFQUmLN5J6",
        "outputId": "8700d371-c283-455e-8b8c-e310d1ec2045"
      },
      "execution_count": null,
      "outputs": [
        {
          "output_type": "stream",
          "name": "stdout",
          "text": [
            "Covariance (basic Python): 8.0\n"
          ]
        }
      ]
    },
    {
      "cell_type": "markdown",
      "source": [
        "Method 2: Using NumPy"
      ],
      "metadata": {
        "id": "ae1MQUhlN79p"
      }
    },
    {
      "cell_type": "code",
      "source": [
        "import numpy as np\n",
        "\n",
        "data_x = np.array([2, 4, 6, 8, 10])\n",
        "data_y = np.array([1, 3, 5, 7, 9])\n",
        "\n",
        "# np.cov returns covariance matrix; [0,1] or [1,0] element is covariance between x and y\n",
        "cov_matrix = np.cov(data_x, data_y, bias=True)  # bias=True for population covariance\n",
        "cov = cov_matrix[0, 1]\n",
        "\n",
        "print(f\"Covariance (NumPy): {cov}\")\n"
      ],
      "metadata": {
        "colab": {
          "base_uri": "https://localhost:8080/"
        },
        "id": "8b-c6Gi2N97p",
        "outputId": "a18de310-6bb3-4e06-cbaf-0c73040a744b"
      },
      "execution_count": null,
      "outputs": [
        {
          "output_type": "stream",
          "name": "stdout",
          "text": [
            "Covariance (NumPy): 8.0\n"
          ]
        }
      ]
    },
    {
      "cell_type": "markdown",
      "source": [
        "# **10) Write a Python script to calculate the correlation coefficient between two datasets?**\n",
        "\n",
        "ans- Here's a simple Python script to calculate the correlation coefficient (Pearson's r) between two datasets, both from scratch and using NumPy:\n",
        "\n",
        "Method 1: Using basic Python"
      ],
      "metadata": {
        "id": "t5zEhtPtODHZ"
      }
    },
    {
      "cell_type": "code",
      "source": [
        "def calculate_correlation(x, y):\n",
        "    if len(x) != len(y):\n",
        "        raise ValueError(\"Datasets must have the same length\")\n",
        "\n",
        "    n = len(x)\n",
        "    mean_x = sum(x) / n\n",
        "    mean_y = sum(y) / n\n",
        "\n",
        "    numerator = sum((x[i] - mean_x) * (y[i] - mean_y) for i in range(n))\n",
        "    denominator_x = sum((x[i] - mean_x) ** 2 for i in range(n))\n",
        "    denominator_y = sum((y[i] - mean_y) ** 2 for i in range(n))\n",
        "\n",
        "    correlation = numerator / (denominator_x**0.5 * denominator_y**0.5)\n",
        "    return correlation\n",
        "\n",
        "# Example datasets\n",
        "data_x = [2, 4, 6, 8, 10]\n",
        "data_y = [1, 3, 5, 7, 9]\n",
        "\n",
        "corr = calculate_correlation(data_x, data_y)\n",
        "print(f\"Correlation coefficient (basic Python): {corr:.4f}\")\n"
      ],
      "metadata": {
        "colab": {
          "base_uri": "https://localhost:8080/"
        },
        "id": "6wsfHR2tOXGp",
        "outputId": "09f9af9f-b08d-4080-a232-9c98e760d323"
      },
      "execution_count": null,
      "outputs": [
        {
          "output_type": "stream",
          "name": "stdout",
          "text": [
            "Correlation coefficient (basic Python): 1.0000\n"
          ]
        }
      ]
    },
    {
      "cell_type": "markdown",
      "source": [
        "Method 2: Using NumPy"
      ],
      "metadata": {
        "id": "8Qz_NbkzOaax"
      }
    },
    {
      "cell_type": "code",
      "source": [
        "import numpy as np\n",
        "\n",
        "data_x = np.array([2, 4, 6, 8, 10])\n",
        "data_y = np.array([1, 3, 5, 7, 9])\n",
        "\n",
        "corr_matrix = np.corrcoef(data_x, data_y)\n",
        "corr = corr_matrix[0, 1]\n",
        "\n",
        "print(f\"Correlation coefficient (NumPy): {corr:.4f}\")\n"
      ],
      "metadata": {
        "colab": {
          "base_uri": "https://localhost:8080/"
        },
        "id": "FC2wxoS1OZvh",
        "outputId": "750bd2f9-d646-4840-b229-bd576d94e107"
      },
      "execution_count": null,
      "outputs": [
        {
          "output_type": "stream",
          "name": "stdout",
          "text": [
            "Correlation coefficient (NumPy): 1.0000\n"
          ]
        }
      ]
    },
    {
      "cell_type": "markdown",
      "source": [
        "# **11) Create a scatter plot to visualize the relationship between two variables?**\n",
        "\n",
        "ans-Here's a Python example that creates a scatter plot to visualize the relationship between two variables using Matplotlib and Seaborn:"
      ],
      "metadata": {
        "id": "UAMqkUeROozQ"
      }
    },
    {
      "cell_type": "code",
      "source": [
        "import matplotlib.pyplot as plt\n",
        "import seaborn as sns\n",
        "import pandas as pd\n",
        "\n",
        "# Sample data\n",
        "data = {\n",
        "    'Hours_Studied': [1, 2, 3, 4, 5, 6, 7, 8, 9, 10],\n",
        "    'Exam_Score': [50, 55, 65, 70, 72, 80, 85, 88, 95, 98]\n",
        "}\n",
        "\n",
        "df = pd.DataFrame(data)\n",
        "\n",
        "# Plot using Matplotlib\n",
        "plt.figure(figsize=(8, 5))\n",
        "plt.scatter(df['Hours_Studied'], df['Exam_Score'], color='blue')\n",
        "plt.title('Scatter Plot: Hours Studied vs Exam Score')\n",
        "plt.xlabel('Hours Studied')\n",
        "plt.ylabel('Exam Score')\n",
        "plt.grid(True)\n",
        "plt.show()\n",
        "\n",
        "# Alternatively, plot using Seaborn for enhanced style\n",
        "sns.scatterplot(x='Hours_Studied', y='Exam_Score', data=df)\n",
        "plt.title('Scatter Plot: Hours Studied vs Exam Score (Seaborn)')\n",
        "plt.show()\n"
      ],
      "metadata": {
        "colab": {
          "base_uri": "https://localhost:8080/",
          "height": 942
        },
        "id": "FNBFv0ESOyQB",
        "outputId": "1192351e-feb1-4f97-f4d8-6621ed5ba1d6"
      },
      "execution_count": null,
      "outputs": [
        {
          "output_type": "display_data",
          "data": {
            "text/plain": [
              "<Figure size 800x500 with 1 Axes>"
            ],
            "image/png": "[encoded data removed]"
          },
          "metadata": {}
        },
        {
          "output_type": "display_data",
          "data": {
            "text/plain": [
              "<Figure size 640x480 with 1 Axes>"
            ],
            "image/png": "[encoded data removed]"
          },
          "metadata": {}
        }
      ]
    },
    {
      "cell_type": "markdown",
      "source": [
        "What this does:\n",
        "\n",
        "Plots points where each point represents a student’s hours studied (x-axis) and exam score (y-axis).\n",
        "\n",
        "Helps visualize if there’s a positive, negative, or no correlation."
      ],
      "metadata": {
        "id": "TFpgXchmO1qp"
      }
    },
    {
      "cell_type": "markdown",
      "source": [
        "# **12) Implement and compare simple random sampling and systematic sampling?**\n",
        "\n",
        "ans- Setup: Sample Dataset"
      ],
      "metadata": {
        "id": "0ZOFh8ZnO6np"
      }
    },
    {
      "cell_type": "code",
      "source": [
        "import pandas as pd\n",
        "\n",
        "# Create a sample dataset of 20 items\n",
        "data = pd.DataFrame({\n",
        "    'ID': range(1, 21),\n",
        "    'Value': [5, 7, 8, 6, 9, 12, 15, 14, 13, 11, 10, 9, 8, 7, 6, 5, 4, 3, 2, 1]\n",
        "})\n",
        "print(\"Original Dataset:\")\n",
        "print(data)\n"
      ],
      "metadata": {
        "colab": {
          "base_uri": "https://localhost:8080/"
        },
        "id": "K96hxjXrPEDI",
        "outputId": "f206ed83-c4e7-454f-dc02-6922c64bc404"
      },
      "execution_count": null,
      "outputs": [
        {
          "output_type": "stream",
          "name": "stdout",
          "text": [
            "Original Dataset:\n",
            "    ID  Value\n",
            "0    1      5\n",
            "1    2      7\n",
            "2    3      8\n",
            "3    4      6\n",
            "4    5      9\n",
            "5    6     12\n",
            "6    7     15\n",
            "7    8     14\n",
            "8    9     13\n",
            "9   10     11\n",
            "10  11     10\n",
            "11  12      9\n",
            "12  13      8\n",
            "13  14      7\n",
            "14  15      6\n",
            "15  16      5\n",
            "16  17      4\n",
            "17  18      3\n",
            "18  19      2\n",
            "19  20      1\n"
          ]
        }
      ]
    },
    {
      "cell_type": "markdown",
      "source": [
        "1. Simple Random Sampling\n",
        "\n",
        "Randomly select k samples without any pattern."
      ],
      "metadata": {
        "id": "JWVh7XLxPKC4"
      }
    },
    {
      "cell_type": "code",
      "source": [
        "def simple_random_sampling(df, k, random_state=None):\n",
        "    return df.sample(n=k, random_state=random_state).reset_index(drop=True)\n",
        "\n",
        "random_sample = simple_random_sampling(data, 5, random_state=42)\n",
        "print(\"\\nSimple Random Sample:\")\n",
        "print(random_sample)\n"
      ],
      "metadata": {
        "colab": {
          "base_uri": "https://localhost:8080/"
        },
        "id": "rEilEdg5PN3p",
        "outputId": "835f3901-c357-4369-afc0-afcf080d9148"
      },
      "execution_count": null,
      "outputs": [
        {
          "output_type": "stream",
          "name": "stdout",
          "text": [
            "\n",
            "Simple Random Sample:\n",
            "   ID  Value\n",
            "0   1      5\n",
            "1  18      3\n",
            "2  16      5\n",
            "3   2      7\n",
            "4   9     13\n"
          ]
        }
      ]
    },
    {
      "cell_type": "markdown",
      "source": [
        "2. Systematic Sampling\n",
        "Select every kth item after a random start."
      ],
      "metadata": {
        "id": "FsKJF3yDPRNi"
      }
    },
    {
      "cell_type": "code",
      "source": [
        "def systematic_sampling(df, k):\n",
        "    n = len(df)\n",
        "    start = np.random.randint(0, k)  # random start between 0 and k-1\n",
        "    indices = list(range(start, n, k))\n",
        "    return df.iloc[indices].reset_index(drop=True)\n",
        "\n",
        "import numpy as np\n",
        "systematic_sample = systematic_sampling(data, 4)\n",
        "print(\"\\nSystematic Sample:\")\n",
        "print(systematic_sample)\n"
      ],
      "metadata": {
        "colab": {
          "base_uri": "https://localhost:8080/"
        },
        "id": "-YX9EAOQPUBx",
        "outputId": "cd7c30e8-805e-46b9-8f17-8b06415f6671"
      },
      "execution_count": null,
      "outputs": [
        {
          "output_type": "stream",
          "name": "stdout",
          "text": [
            "\n",
            "Systematic Sample:\n",
            "   ID  Value\n",
            "0   2      7\n",
            "1   6     12\n",
            "2  10     11\n",
            "3  14      7\n",
            "4  18      3\n"
          ]
        }
      ]
    },
    {
      "cell_type": "code",
      "source": [
        "Full Script for Reference:"
      ],
      "metadata": {
        "id": "TwkP2YgJPXsp"
      },
      "execution_count": null,
      "outputs": []
    },
    {
      "cell_type": "code",
      "source": [
        "import pandas as pd\n",
        "import numpy as np\n",
        "\n",
        "# Dataset\n",
        "data = pd.DataFrame({\n",
        "    'ID': range(1, 21),\n",
        "    'Value': [5, 7, 8, 6, 9, 12, 15, 14, 13, 11, 10, 9, 8, 7, 6, 5, 4, 3, 2, 1]\n",
        "})\n",
        "\n",
        "print(\"Original Dataset:\")\n",
        "print(data)\n",
        "\n",
        "# Simple Random Sampling\n",
        "def simple_random_sampling(df, k, random_state=None):\n",
        "    return df.sample(n=k, random_state=random_state).reset_index(drop=True)\n",
        "\n",
        "random_sample = simple_random_sampling(data, 5, random_state=42)\n",
        "print(\"\\nSimple Random Sample:\")\n",
        "print(random_sample)\n",
        "\n",
        "# Systematic Sampling\n",
        "def systematic_sampling(df, k):\n",
        "    n = len(df)\n",
        "    start = np.random.randint(0, k)  # random start index\n",
        "    indices = list(range(start, n, k))\n",
        "    return df.iloc[indices].reset_index(drop=True)\n",
        "\n",
        "systematic_sample = systematic_sampling(data, 4)\n",
        "print(\"\\nSystematic Sample:\")\n",
        "print(systematic_sample)\n"
      ],
      "metadata": {
        "colab": {
          "base_uri": "https://localhost:8080/"
        },
        "id": "-IPJkNT-PZQK",
        "outputId": "799ab119-7ce9-4ea0-efe8-9750810eec38"
      },
      "execution_count": null,
      "outputs": [
        {
          "output_type": "stream",
          "name": "stdout",
          "text": [
            "Original Dataset:\n",
            "    ID  Value\n",
            "0    1      5\n",
            "1    2      7\n",
            "2    3      8\n",
            "3    4      6\n",
            "4    5      9\n",
            "5    6     12\n",
            "6    7     15\n",
            "7    8     14\n",
            "8    9     13\n",
            "9   10     11\n",
            "10  11     10\n",
            "11  12      9\n",
            "12  13      8\n",
            "13  14      7\n",
            "14  15      6\n",
            "15  16      5\n",
            "16  17      4\n",
            "17  18      3\n",
            "18  19      2\n",
            "19  20      1\n",
            "\n",
            "Simple Random Sample:\n",
            "   ID  Value\n",
            "0   1      5\n",
            "1  18      3\n",
            "2  16      5\n",
            "3   2      7\n",
            "4   9     13\n",
            "\n",
            "Systematic Sample:\n",
            "   ID  Value\n",
            "0   2      7\n",
            "1   6     12\n",
            "2  10     11\n",
            "3  14      7\n",
            "4  18      3\n"
          ]
        }
      ]
    },
    {
      "cell_type": "markdown",
      "source": [
        "What’s the difference?\n",
        "\n",
        "| Sampling Method   | How It Works                                | Use Case                                            |\n",
        "| ----------------- | ------------------------------------------- | --------------------------------------------------- |\n",
        "| **Simple Random** | Randomly picks any `k` samples              | When every sample has an equal chance               |\n",
        "| **Systematic**    | Picks every `k`th item after a random start | Useful for ordered populations, easier to implement |\n"
      ],
      "metadata": {
        "id": "ZxbMm37RPb_4"
      }
    },
    {
      "cell_type": "markdown",
      "source": [
        "# **13) Calculate the mean, median, and mode of grouped data?**\n",
        "\n",
        "ans- Calculating mean, median, and mode for grouped data (data presented in class intervals with frequencies) involves formulas and steps different from raw data. Here’s how to do it with an example and Python code.\n",
        "\n",
        "Sample Grouped Data:\n",
        "\n",
        "| Class Interval | Frequency (f) |\n",
        "| -------------- | ------------- |\n",
        "| 10 – 20        | 5             |\n",
        "| 20 – 30        | 8             |\n",
        "| 30 – 40        | 12            |\n",
        "| 40 – 50        | 7             |\n",
        "| 50 – 60        | 3             |\n",
        "\n",
        "Step 1: Prepare the Data in Python"
      ],
      "metadata": {
        "id": "wvryUia-Pi8Z"
      }
    },
    {
      "cell_type": "code",
      "source": [
        "import numpy as np\n",
        "from scipy import stats\n",
        "\n",
        "# Class intervals (lower bounds and upper bounds)\n",
        "class_intervals = [(10, 20), (20, 30), (30, 40), (40, 50), (50, 60)]\n",
        "frequencies = [5, 8, 12, 7, 3]\n",
        "\n",
        "# Calculate midpoints of each class interval\n",
        "midpoints = [(low + high) / 2 for low, high in class_intervals]\n"
      ],
      "metadata": {
        "id": "zUOz_Iw-Px-5"
      },
      "execution_count": null,
      "outputs": []
    },
    {
      "cell_type": "markdown",
      "source": [
        "Step 2: Calculate Mean for Grouped Data\n",
        "Mean\n",
        "=\n",
        "∑\n",
        "𝑓\n",
        "𝑖\n",
        "𝑥\n",
        "𝑖\n",
        "∑\n",
        "𝑓\n",
        "𝑖\n",
        "Mean=\n",
        "∑f\n",
        "i\n",
        "​\n",
        "\n",
        "∑f\n",
        "i\n",
        "​\n",
        " x\n",
        "i\n",
        "​\n",
        "\n",
        "​\n",
        "\n",
        "where\n",
        "𝑓\n",
        "𝑖\n",
        "f\n",
        "i\n",
        "​\n",
        "  = frequency,\n",
        "𝑥\n",
        "𝑖\n",
        "x\n",
        "i\n",
        "​\n",
        "  = midpoint of class"
      ],
      "metadata": {
        "id": "7zMWXooQP0yp"
      }
    },
    {
      "cell_type": "code",
      "source": [
        "# Mean calculation\n",
        "mean = sum(f * x for f, x in zip(frequencies, midpoints)) / sum(frequencies)\n",
        "print(f\"Mean: {mean:.2f}\")\n"
      ],
      "metadata": {
        "id": "_8DFJLr_P3s5"
      },
      "execution_count": null,
      "outputs": []
    },
    {
      "cell_type": "markdown",
      "source": [
        "Step 3: Calculate Median for Grouped Data\n",
        "Median class is the class where the cumulative frequency just exceeds\n",
        "𝑁\n",
        "2\n",
        "2\n",
        "N\n",
        "​\n",
        " , where\n",
        "𝑁\n",
        "N is total frequency.\n",
        "\n",
        "Formula:\n",
        "\n",
        "Median\n",
        "=\n",
        "𝐿\n",
        "+\n",
        "(\n",
        "𝑁\n",
        "2\n",
        "−\n",
        "𝐹\n",
        "𝑓\n",
        "𝑚\n",
        ")\n",
        "×\n",
        "ℎ\n",
        "Median=L+(\n",
        "f\n",
        "m\n",
        "​\n",
        "\n",
        "2\n",
        "N\n",
        "​\n",
        " −F\n",
        "​\n",
        " )×h\n",
        "𝐿\n",
        "L = lower boundary of median class\n",
        "\n",
        "𝑁\n",
        "N = total frequency\n",
        "\n",
        "𝐹\n",
        "F = cumulative frequency before median class\n",
        "\n",
        "𝑓\n",
        "𝑚\n",
        "f\n",
        "m\n",
        "​\n",
        "  = frequency of median class\n",
        "\n",
        "ℎ\n",
        "h = class width"
      ],
      "metadata": {
        "id": "ollwQFlGP6ah"
      }
    },
    {
      "cell_type": "code",
      "source": [
        "# Calculate cumulative frequencies\n",
        "cum_freq = np.cumsum(frequencies)\n",
        "N = sum(frequencies)\n",
        "\n",
        "# Find median class index\n",
        "median_class_index = np.where(cum_freq >= N/2)[0][0]\n",
        "\n",
        "L = class_intervals[median_class_index][0]  # lower boundary of median class\n",
        "F = cum_freq[median_class_index - 1] if median_class_index > 0 else 0\n",
        "f_m = frequencies[median_class_index]\n",
        "h = class_intervals[median_class_index][1] - class_intervals[median_class_index][0]\n",
        "\n",
        "median = L + ((N/2 - F) / f_m) * h\n",
        "print(f\"Median: {median:.2f}\")\n"
      ],
      "metadata": {
        "colab": {
          "base_uri": "https://localhost:8080/"
        },
        "id": "vpv67rR2P8xp",
        "outputId": "f3dbb163-5ee2-4c12-a713-374fe64c4185"
      },
      "execution_count": null,
      "outputs": [
        {
          "output_type": "stream",
          "name": "stdout",
          "text": [
            "Median: 33.75\n"
          ]
        }
      ]
    },
    {
      "cell_type": "markdown",
      "source": [
        "Step 4: Calculate Mode for Grouped Data\n",
        "Mode formula:\n",
        "\n",
        "Mode\n",
        "=\n",
        "𝐿\n",
        "+\n",
        "(\n",
        "𝑓\n",
        "1\n",
        "−\n",
        "𝑓\n",
        "0\n",
        "2\n",
        "𝑓\n",
        "1\n",
        "−\n",
        "𝑓\n",
        "0\n",
        "−\n",
        "𝑓\n",
        "2\n",
        ")\n",
        "×\n",
        "ℎ\n",
        "Mode=L+(\n",
        "2f\n",
        "1\n",
        "​\n",
        " −f\n",
        "0\n",
        "​\n",
        " −f\n",
        "2\n",
        "​\n",
        "\n",
        "f\n",
        "1\n",
        "​\n",
        " −f\n",
        "0\n",
        "​\n",
        "\n",
        "​\n",
        " )×h\n",
        "𝐿\n",
        "L = lower boundary of modal class\n",
        "\n",
        "𝑓\n",
        "1\n",
        "f\n",
        "1\n",
        "​\n",
        "  = frequency of modal class\n",
        "\n",
        "𝑓\n",
        "0\n",
        "f\n",
        "0\n",
        "​\n",
        "  = frequency of class before modal class\n",
        "\n",
        "𝑓\n",
        "2\n",
        "f\n",
        "2\n",
        "​\n",
        "  = frequency of class after modal class\n",
        "\n",
        "ℎ\n",
        "h = class width\n",
        "\n",
        "\n"
      ],
      "metadata": {
        "id": "CdvAnhVBQACR"
      }
    },
    {
      "cell_type": "code",
      "source": [
        "# Modal class index (class with highest frequency)\n",
        "modal_class_index = frequencies.index(max(frequencies))\n",
        "\n",
        "L = class_intervals[modal_class_index][0]\n",
        "f1 = frequencies[modal_class_index]\n",
        "f0 = frequencies[modal_class_index - 1] if modal_class_index > 0 else 0\n",
        "f2 = frequencies[modal_class_index + 1] if modal_class_index < len(frequencies) - 1 else 0\n",
        "h = class_intervals[modal_class_index][1] - class_intervals[modal_class_index][0]\n",
        "\n",
        "mode = L + ((f1 - f0) / (2 * f1 - f0 - f2)) * h\n",
        "print(f\"Mode: {mode:.2f}\")\n"
      ],
      "metadata": {
        "id": "8ZB-t3XTQCfh"
      },
      "execution_count": null,
      "outputs": []
    },
    {
      "cell_type": "markdown",
      "source": [
        "Full Code"
      ],
      "metadata": {
        "id": "DMjxFeR5QHLJ"
      }
    },
    {
      "cell_type": "code",
      "source": [
        "import numpy as np\n",
        "\n",
        "class_intervals = [(10, 20), (20, 30), (30, 40), (40, 50), (50, 60)]\n",
        "frequencies = [5, 8, 12, 7, 3]\n",
        "\n",
        "midpoints = [(low + high) / 2 for low, high in class_intervals]\n",
        "\n",
        "# Mean\n",
        "mean = sum(f * x for f, x in zip(frequencies, midpoints)) / sum(frequencies)\n",
        "\n",
        "# Median\n",
        "cum_freq = np.cumsum(frequencies)\n",
        "N = sum(frequencies)\n",
        "median_class_index = np.where(cum_freq >= N/2)[0][0]\n",
        "L = class_intervals[median_class_index][0]\n",
        "F = cum_freq[median_class_index - 1] if median_class_index > 0 else 0\n",
        "f_m = frequencies[median_class_index]\n",
        "h = class_intervals[median_class_index][1] - class_intervals[median_class_index][0]\n",
        "median = L + ((N/2 - F) / f_m) * h\n",
        "\n",
        "# Mode\n",
        "modal_class_index = frequencies.index(max(frequencies))\n",
        "L_mode = class_intervals[modal_class_index][0]\n",
        "f1 = frequencies[modal_class_index]\n",
        "f0 = frequencies[modal_class_index - 1] if modal_class_index > 0 else 0\n",
        "f2 = frequencies[modal_class_index + 1] if modal_class_index < len(frequencies) - 1 else 0\n",
        "h_mode = class_intervals[modal_class_index][1] - class_intervals[modal_class_index][0]\n",
        "mode = L_mode + ((f1 - f0) / (2 * f1 - f0 - f2)) * h_mode\n",
        "\n",
        "print(f\"Mean: {mean:.2f}\")\n",
        "print(f\"Median: {median:.2f}\")\n",
        "print(f\"Mode: {mode:.2f}\")\n"
      ],
      "metadata": {
        "colab": {
          "base_uri": "https://localhost:8080/"
        },
        "id": "dJ6iXhOTQIsp",
        "outputId": "8151ec6c-8cf5-4b7e-e4ad-ab8347849354"
      },
      "execution_count": null,
      "outputs": [
        {
          "output_type": "stream",
          "name": "stdout",
          "text": [
            "Mean: 33.57\n",
            "Median: 33.75\n",
            "Mode: 34.44\n"
          ]
        }
      ]
    },
    {
      "cell_type": "markdown",
      "source": [
        "# **14) Simulate data using Python and calculate its central tendency and dispersion?**\n",
        "\n",
        "ans- Here's a Python example that simulates a dataset using NumPy, then calculates its central tendency (mean, median, mode) and dispersion (variance, standard deviation, range):\n"
      ],
      "metadata": {
        "id": "sD2hayIMQOB5"
      }
    },
    {
      "cell_type": "code",
      "source": [
        "import numpy as np\n",
        "import scipy.stats as stats\n",
        "\n",
        "# Simulate dataset: 1000 data points from a normal distribution\n",
        "np.random.seed(42)\n",
        "data = np.random.normal(loc=50, scale=10, size=1000)\n",
        "\n",
        "# Calculate central tendency\n",
        "mean = np.mean(data)\n",
        "median = np.median(data)\n",
        "mode_result = stats.mode(data, keepdims=True)\n",
        "mode = mode_result.mode[0]\n",
        "\n",
        "# Calculate dispersion\n",
        "variance = np.var(data)\n",
        "std_dev = np.std(data)\n",
        "data_range = np.max(data) - np.min(data)\n",
        "\n",
        "# Display results\n",
        "print(f\"Mean: {mean:.2f}\")\n",
        "print(f\"Median: {median:.2f}\")\n",
        "print(f\"Mode: {mode:.2f}\")\n",
        "print(f\"Variance: {variance:.2f}\")\n",
        "print(f\"Standard Deviation: {std_dev:.2f}\")\n",
        "print(f\"Range: {data_range:.2f}\")\n"
      ],
      "metadata": {
        "colab": {
          "base_uri": "https://localhost:8080/"
        },
        "id": "QiwtHfEUQbRl",
        "outputId": "ed8893c0-c7a2-4ac1-d11d-53a283094f1b"
      },
      "execution_count": null,
      "outputs": [
        {
          "output_type": "stream",
          "name": "stdout",
          "text": [
            "Mean: 50.19\n",
            "Median: 50.25\n",
            "Mode: 17.59\n",
            "Variance: 95.79\n",
            "Standard Deviation: 9.79\n",
            "Range: 70.94\n"
          ]
        }
      ]
    },
    {
      "cell_type": "markdown",
      "source": [
        "What it does:\n",
        "Generates 1000 random values from a normal distribution with mean=50 and std=10.\n",
        "\n",
        "Calculates mean, median, mode.\n",
        "\n",
        "Calculates variance, standard deviation, and range.\n",
        "\n",
        "Prints all results formatted nicely."
      ],
      "metadata": {
        "id": "QUWRoANnQd8p"
      }
    },
    {
      "cell_type": "markdown",
      "source": [
        "# **15) Use NumPy or pandas to summarize a dataset’s descriptive statistics?**\n",
        "\n",
        "ans- Absolutely! You can easily summarize a dataset’s descriptive statistics using NumPy or Pandas. Here’s how to do it with both:\n",
        "\n",
        "Using Pandas"
      ],
      "metadata": {
        "id": "KesiIbLLQhv4"
      }
    },
    {
      "cell_type": "code",
      "source": [
        "import pandas as pd\n",
        "import numpy as np\n",
        "\n",
        "# Simulate dataset with 3 columns and 100 rows\n",
        "np.random.seed(0)\n",
        "data = pd.DataFrame({\n",
        "    'Age': np.random.randint(18, 70, 100),\n",
        "    'Income': np.random.normal(50000, 15000, 100),\n",
        "    'Score': np.random.uniform(0, 100, 100)\n",
        "})\n",
        "\n",
        "# Get descriptive statistics\n",
        "summary = data.describe()\n",
        "\n",
        "print(summary)\n"
      ],
      "metadata": {
        "colab": {
          "base_uri": "https://localhost:8080/"
        },
        "id": "BT_JgpZAQqiZ",
        "outputId": "bb8e5c3e-9432-4f9c-c388-33dc09e5d0e6"
      },
      "execution_count": null,
      "outputs": [
        {
          "output_type": "stream",
          "name": "stdout",
          "text": [
            "              Age        Income       Score\n",
            "count  100.000000    100.000000  100.000000\n",
            "mean    41.570000  49410.165856   53.700850\n",
            "std     15.537023  14644.030894   28.510382\n",
            "min     18.000000  14929.307736    0.005536\n",
            "25%     29.000000  39910.301009   22.938621\n",
            "50%     41.000000  49359.677986   56.261139\n",
            "75%     55.250000  57167.191058   75.033321\n",
            "max     69.000000  84916.071638   98.503228\n"
          ]
        }
      ]
    },
    {
      "cell_type": "markdown",
      "source": [
        "Using NumPy"
      ],
      "metadata": {
        "id": "q5VtkvkyQtgp"
      }
    },
    {
      "cell_type": "code",
      "source": [
        "import numpy as np\n",
        "\n",
        "# Simulate 1D dataset\n",
        "data = np.random.normal(loc=100, scale=15, size=1000)\n",
        "\n",
        "print(f\"Mean: {np.mean(data):.2f}\")\n",
        "print(f\"Median: {np.median(data):.2f}\")\n",
        "print(f\"Standard Deviation: {np.std(data):.2f}\")\n",
        "print(f\"Variance: {np.var(data):.2f}\")\n",
        "print(f\"Min: {np.min(data):.2f}\")\n",
        "print(f\"Max: {np.max(data):.2f}\")\n",
        "print(f\"25th percentile: {np.percentile(data, 25):.2f}\")\n",
        "print(f\"75th percentile: {np.percentile(data, 75):.2f}\")\n"
      ],
      "metadata": {
        "colab": {
          "base_uri": "https://localhost:8080/"
        },
        "id": "iiInVWHHQu0Z",
        "outputId": "60310d4c-05c4-414f-daad-511b94811558"
      },
      "execution_count": null,
      "outputs": [
        {
          "output_type": "stream",
          "name": "stdout",
          "text": [
            "Mean: 100.07\n",
            "Median: 99.85\n",
            "Standard Deviation: 15.48\n",
            "Variance: 239.51\n",
            "Min: 52.33\n",
            "Max: 151.52\n",
            "25th percentile: 89.70\n",
            "75th percentile: 110.70\n"
          ]
        }
      ]
    },
    {
      "cell_type": "markdown",
      "source": [
        "Summary\n",
        "Pandas .describe() is great for quick multi-column summaries.\n",
        "\n",
        "NumPy is good for custom or specific stats on arrays."
      ],
      "metadata": {
        "id": "GOUzkGcFQxaI"
      }
    },
    {
      "cell_type": "markdown",
      "source": [
        "# **16) Plot a boxplot to understand the spread and identify outliers>?**\n",
        "\n",
        "ans- Here’s how we can plot a boxplot in Python using Matplotlib and Seaborn to visualize the spread of data and identify outliers:"
      ],
      "metadata": {
        "id": "-k20gpoQQ1Ga"
      }
    },
    {
      "cell_type": "code",
      "source": [
        "import matplotlib.pyplot as plt\n",
        "import seaborn as sns\n",
        "import numpy as np\n",
        "\n",
        "# Generate sample data with outliers\n",
        "np.random.seed(42)\n",
        "data = np.random.normal(loc=50, scale=10, size=100)\n",
        "outliers = [100, 110, 120]  # extreme values\n",
        "data_with_outliers = np.concatenate([data, outliers])\n",
        "\n",
        "# Plot using Matplotlib\n",
        "plt.figure(figsize=(8, 5))\n",
        "plt.boxplot(data_with_outliers, vert=False)\n",
        "plt.title('Boxplot using Matplotlib')\n",
        "plt.xlabel('Value')\n",
        "plt.show()\n",
        "\n",
        "# Plot using Seaborn (works well with pandas Series or DataFrame)\n",
        "import pandas as pd\n",
        "df = pd.DataFrame({'Values': data_with_outliers})\n",
        "\n",
        "plt.figure(figsize=(8, 5))\n",
        "sns.boxplot(x='Values', data=df)\n",
        "plt.title('Boxplot using Seaborn')\n",
        "plt.show()\n"
      ],
      "metadata": {
        "colab": {
          "base_uri": "https://localhost:8080/",
          "height": 957
        },
        "id": "Mz0n4ZHhQ_MQ",
        "outputId": "a80db673-0f0c-44cb-ec16-e8b608737096"
      },
      "execution_count": null,
      "outputs": [
        {
          "output_type": "display_data",
          "data": {
            "text/plain": [
              "<Figure size 800x500 with 1 Axes>"
            ],
            "image/png": "[encoded data removed]"
          },
          "metadata": {}
        },
        {
          "output_type": "display_data",
          "data": {
            "text/plain": [
              "<Figure size 800x500 with 1 Axes>"
            ],
            "image/png": "[encoded data removed]"
          },
          "metadata": {}
        }
      ]
    },
    {
      "cell_type": "markdown",
      "source": [
        "What you see in the boxplot:\n",
        "\n",
        "Box shows interquartile range (IQR, 25th to 75th percentile)\n",
        "\n",
        "Line inside box is the median\n",
        "\n",
        "Whiskers extend to data within 1.5 * IQR from the quartiles\n",
        "\n",
        "Dots outside whiskers are outliers\n",
        "\n"
      ],
      "metadata": {
        "id": "itb-fgP9RDzo"
      }
    },
    {
      "cell_type": "markdown",
      "source": [
        "# **17) Calculate the interquartile range (IQR) of a dataset?**\n",
        "\n",
        "ans- The Interquartile Range (IQR) is a measure of statistical dispersion and is calculated as:\n",
        "\n",
        "IQR\n",
        "=\n",
        "𝑄\n",
        "3\n",
        "−\n",
        "𝑄\n",
        "1\n",
        "IQR=Q3−Q1\n",
        "Where:\n",
        "\n",
        "Q1 = 25th percentile (1st quartile)\n",
        "\n",
        "Q3 = 75th percentile (3rd quartile)\n",
        "\n",
        "✅ Example in Python using NumPy:\n",
        "\n",
        "\n"
      ],
      "metadata": {
        "id": "QLQM1WIeRKBZ"
      }
    },
    {
      "cell_type": "code",
      "source": [
        "import numpy as np\n",
        "\n",
        "# Sample dataset\n",
        "data = [12, 15, 14, 10, 18, 20, 22, 25, 30, 28, 26]\n",
        "\n",
        "# Calculate Q1 and Q3\n",
        "Q1 = np.percentile(data, 25)\n",
        "Q3 = np.percentile(data, 75)\n",
        "\n",
        "# Calculate IQR\n",
        "IQR = Q3 - Q1\n",
        "\n",
        "print(f\"Q1 (25th percentile): {Q1}\")\n",
        "print(f\"Q3 (75th percentile): {Q3}\")\n",
        "print(f\"Interquartile Range (IQR): {IQR}\")\n"
      ],
      "metadata": {
        "colab": {
          "base_uri": "https://localhost:8080/"
        },
        "id": "oK-cA4OoRb1Q",
        "outputId": "9fdc62c8-cec3-4645-8f9c-925edf22edd3"
      },
      "execution_count": null,
      "outputs": [
        {
          "output_type": "stream",
          "name": "stdout",
          "text": [
            "Q1 (25th percentile): 14.5\n",
            "Q3 (75th percentile): 25.5\n",
            "Interquartile Range (IQR): 11.0\n"
          ]
        }
      ]
    },
    {
      "cell_type": "markdown",
      "source": [
        "Example using Pandas:"
      ],
      "metadata": {
        "id": "dsx-HE7ZRgJZ"
      }
    },
    {
      "cell_type": "code",
      "source": [
        "import pandas as pd\n",
        "\n",
        "# Convert to Series\n",
        "data_series = pd.Series(data)\n",
        "\n",
        "# Calculate IQR\n",
        "IQR = data_series.quantile(0.75) - data_series.quantile(0.25)\n",
        "print(f\"IQR (using Pandas): {IQR}\")\n"
      ],
      "metadata": {
        "colab": {
          "base_uri": "https://localhost:8080/"
        },
        "id": "IiKUpIlJRg4B",
        "outputId": "ad5e8128-0699-4840-d23c-7dc266bbc15c"
      },
      "execution_count": null,
      "outputs": [
        {
          "output_type": "stream",
          "name": "stdout",
          "text": [
            "IQR (using Pandas): 11.0\n"
          ]
        }
      ]
    },
    {
      "cell_type": "markdown",
      "source": [
        "# **18) Implement Z-score normalization and explain its significance?**\n",
        "\n",
        "ans- Here's how to implement Z-score normalization in Python, followed by an explanation of its significance.\n",
        "\n",
        "What is Z-score Normalization?\n",
        "Z-score normalization (or standardization) transforms data to have:\n",
        "\n",
        "Mean = 0\n",
        "\n",
        "Standard deviation = 1\n",
        "\n",
        "Formula for each value\n",
        "𝑥\n",
        "𝑖\n",
        "x\n",
        "i\n",
        "​\n",
        " :\n",
        "\n",
        " z\n",
        "i\n",
        "​\n",
        " =\n",
        "σ\n",
        "x\n",
        "i\n",
        "​\n",
        " −μ\n",
        "​\n",
        "\n",
        "where:\n",
        "\n",
        "𝜇\n",
        "μ = mean of the data\n",
        "\n",
        "𝜎\n",
        "σ = standard deviation of the data\n",
        "\n",
        "Why use Z-score Normalization?\n",
        "Removes scale effects: Makes features comparable if they had different units or scales.\n",
        "\n",
        "Improves ML algorithms: Many algorithms perform better or converge faster when data is standardized.\n",
        "\n",
        "Outlier detection: Z-scores can highlight how many standard deviations a point is from the mean.\n",
        "\n",
        "Python Implementation"
      ],
      "metadata": {
        "id": "xhikbfqsRk8S"
      }
    },
    {
      "cell_type": "code",
      "source": [
        "import numpy as np\n",
        "\n",
        "# Sample data\n",
        "data = np.array([10, 15, 20, 25, 30, 35, 40])\n",
        "\n",
        "# Calculate mean and std deviation\n",
        "mean = np.mean(data)\n",
        "std_dev = np.std(data)\n",
        "\n",
        "# Z-score normalization\n",
        "z_scores = (data - mean) / std_dev\n",
        "\n",
        "print(\"Original data:\", data)\n",
        "print(\"Mean:\", mean)\n",
        "print(\"Standard Deviation:\", std_dev)\n",
        "print(\"Z-score normalized data:\", z_scores)\n"
      ],
      "metadata": {
        "colab": {
          "base_uri": "https://localhost:8080/"
        },
        "id": "-JA4qgCbR2Jh",
        "outputId": "15238d60-fe88-4824-bb0c-f268766dc3d7"
      },
      "execution_count": null,
      "outputs": [
        {
          "output_type": "stream",
          "name": "stdout",
          "text": [
            "Original data: [10 15 20 25 30 35 40]\n",
            "Mean: 25.0\n",
            "Standard Deviation: 10.0\n",
            "Z-score normalized data: [-1.5 -1.  -0.5  0.   0.5  1.   1.5]\n"
          ]
        }
      ]
    },
    {
      "cell_type": "markdown",
      "source": [
        "Using Scikit-learn (alternative)\n",
        "\n"
      ],
      "metadata": {
        "id": "UMCcpJZDR42h"
      }
    },
    {
      "cell_type": "code",
      "source": [
        "from sklearn.preprocessing import StandardScaler\n",
        "\n",
        "data = data.reshape(-1, 1)  # Reshape to 2D for sklearn\n",
        "scaler = StandardScaler()\n",
        "z_scores = scaler.fit_transform(data)\n",
        "\n",
        "print(z_scores.flatten())\n"
      ],
      "metadata": {
        "colab": {
          "base_uri": "https://localhost:8080/"
        },
        "id": "hOa6lSIcSALZ",
        "outputId": "91599035-2e7a-4566-dd87-41166e245068"
      },
      "execution_count": null,
      "outputs": [
        {
          "output_type": "stream",
          "name": "stdout",
          "text": [
            "[-1.5 -1.  -0.5  0.   0.5  1.   1.5]\n"
          ]
        }
      ]
    },
    {
      "cell_type": "markdown",
      "source": [
        "# **19) Compare two datasets using their standard deviations>?**\n",
        "\n",
        "ans-To compare two datasets using their standard deviations, you analyze how spread out the values are in each dataset. Here's how to approach it:\n",
        "\n",
        "🔢 What is Standard Deviation?\n",
        "Standard deviation (SD) measures the average distance of each data point from the mean.\n",
        "\n",
        "A low SD means data points are close to the mean (less variability).\n",
        "\n",
        "A high SD means data points are more spread out from the mean (more variability).\n",
        "\n",
        "📊 Steps to Compare Two Datasets Using SD\n",
        "Let’s assume:\n",
        "\n",
        "Dataset A: [10, 12, 14, 16, 18]\n",
        "\n",
        "Dataset B: [5, 10, 15, 20, 25]\n",
        "\n",
        "1. Calculate Mean and SD (using Python for illustration):"
      ],
      "metadata": {
        "id": "i0xCiiEzSFph"
      }
    },
    {
      "cell_type": "code",
      "source": [
        "import numpy as np\n",
        "\n",
        "dataset_a = [10, 12, 14, 16, 18]\n",
        "dataset_b = [5, 10, 15, 20, 25]\n",
        "\n",
        "std_a = np.std(dataset_a)\n",
        "std_b = np.std(dataset_b)\n",
        "\n",
        "print(\"Standard Deviation of Dataset A:\", std_a)\n",
        "print(\"Standard Deviation of Dataset B:\", std_b)\n"
      ],
      "metadata": {
        "colab": {
          "base_uri": "https://localhost:8080/"
        },
        "id": "dFhLNDOKcihV",
        "outputId": "766f0611-7956-4776-a29a-f45fd1cc4802"
      },
      "execution_count": 1,
      "outputs": [
        {
          "output_type": "stream",
          "name": "stdout",
          "text": [
            "Standard Deviation of Dataset A: 2.8284271247461903\n",
            "Standard Deviation of Dataset B: 7.0710678118654755\n"
          ]
        }
      ]
    },
    {
      "cell_type": "markdown",
      "source": [
        "2. Interpret the Results\n",
        "Suppose output is:\n",
        "\n",
        "✅ Interpretation:\n",
        "\n",
        "Dataset A has a smaller standard deviation → values are more tightly clustered around the mean.\n",
        "\n",
        "Dataset B has a larger standard deviation → values are more spread out.\n",
        "\n",
        "🧠 Key Takeaways:\n",
        "| Feature                | Dataset A | Dataset B |\n",
        "| ---------------------- | --------- | --------- |\n",
        "| Mean (μ)               | 14        | 15        |\n",
        "| Standard Deviation (σ) | \\~2.83    | \\~7.07    |\n",
        "| Spread/Variability     | Less      | More      |\n",
        "\n"
      ],
      "metadata": {
        "id": "uI2uA7kxcmJM"
      }
    },
    {
      "cell_type": "markdown",
      "source": [
        "# **20) Write a Python program to visualize covariance using a heatmap?**\n",
        "\n",
        "ans- a Python program to visualize covariance using a heatmap with the help of pandas, numpy, and seaborn:\n",
        "\n",
        "✅ Python Code: Covariance Heatmap"
      ],
      "metadata": {
        "id": "ATeboWmYeqoX"
      }
    },
    {
      "cell_type": "code",
      "source": [
        "import numpy as np\n",
        "import pandas as pd\n",
        "import seaborn as sns\n",
        "import matplotlib.pyplot as plt\n",
        "\n",
        "# Sample data\n",
        "data = {\n",
        "    'Math': [85, 90, 78, 92, 88],\n",
        "    'Science': [89, 94, 75, 96, 90],\n",
        "    'English': [70, 75, 80, 72, 68]\n",
        "}\n",
        "\n",
        "# Create DataFrame\n",
        "df = pd.DataFrame(data)\n",
        "\n",
        "# Compute covariance matrix\n",
        "cov_matrix = df.cov()\n",
        "\n",
        "# Plot heatmap\n",
        "plt.figure(figsize=(8, 6))\n",
        "sns.heatmap(cov_matrix, annot=True, cmap='coolwarm', linewidths=0.5)\n",
        "plt.title(\"Covariance Heatmap\")\n",
        "plt.show()\n"
      ],
      "metadata": {
        "colab": {
          "base_uri": "https://localhost:8080/",
          "height": 545
        },
        "id": "JD4OGuUXe7OF",
        "outputId": "c2ced6c2-1422-4c4e-c430-dfea28fef27c"
      },
      "execution_count": 2,
      "outputs": [
        {
          "output_type": "display_data",
          "data": {
            "text/plain": [
              "<Figure size 800x600 with 2 Axes>"
            ],
            "image/png": "[encoded data removed]"
          },
          "metadata": {}
        }
      ]
    },
    {
      "cell_type": "markdown",
      "source": [
        "📌 Notes:\n",
        ".cov() calculates the covariance matrix.\n",
        "\n",
        "sns.heatmap() helps visualize it clearly with colors indicating the magnitude and sign of covariance.\n",
        "\n"
      ],
      "metadata": {
        "id": "TveL9BKZe_K_"
      }
    },
    {
      "cell_type": "markdown",
      "source": [
        "# **21) Use seaborn to create a correlation matrix for a dataset?**\n",
        "\n",
        "ans- Here's how to use Seaborn to create a correlation matrix (heatmap) for a dataset, such as the popular Iris dataset:\n",
        "\n",
        "✅ Python Code: Correlation Matrix Using Seaborn"
      ],
      "metadata": {
        "id": "xOpeSIU3fHHe"
      }
    },
    {
      "cell_type": "code",
      "source": [
        "import seaborn as sns\n",
        "import pandas as pd\n",
        "import matplotlib.pyplot as plt\n",
        "\n",
        "# Load a sample dataset (Iris)\n",
        "df = sns.load_dataset(\"iris\")\n",
        "\n",
        "# Compute the correlation matrix\n",
        "corr_matrix = df.corr(numeric_only=True)\n",
        "\n",
        "# Create the heatmap\n",
        "plt.figure(figsize=(8, 6))\n",
        "sns.heatmap(corr_matrix, annot=True, cmap='coolwarm', linewidths=0.5)\n",
        "plt.title(\"Correlation Matrix - Iris Dataset\")\n",
        "plt.show()\n"
      ],
      "metadata": {
        "colab": {
          "base_uri": "https://localhost:8080/",
          "height": 545
        },
        "id": "QMs2gFOxfVFw",
        "outputId": "75ae4dda-3902-48ae-de0b-1fc400373377"
      },
      "execution_count": 3,
      "outputs": [
        {
          "output_type": "display_data",
          "data": {
            "text/plain": [
              "<Figure size 800x600 with 2 Axes>"
            ],
            "image/png": "[encoded data removed]"
          },
          "metadata": {}
        }
      ]
    },
    {
      "cell_type": "markdown",
      "source": [
        " Notes:\n",
        "\n",
        "df.corr() calculates Pearson correlation coefficients between numeric columns.\n",
        "\n",
        "annot=True shows the correlation values inside the heatmap.\n",
        "\n",
        "cmap='coolwarm' gives color contrast between positive and negative correlations.\n",
        "\n"
      ],
      "metadata": {
        "id": "Yd6UbYc7fZ1_"
      }
    },
    {
      "cell_type": "markdown",
      "source": [
        "# **22) Generate a dataset and implement both variance and standard deviation computations>?**\n",
        "\n",
        "ans- Here's a complete Python program that:\n",
        "\n",
        "Generates a random dataset\n",
        "\n",
        "Computes variance\n",
        "\n",
        "Computes standard deviation\n",
        "\n",
        "✅ Python Code: Variance and Standard Deviation"
      ],
      "metadata": {
        "id": "10_IqxHKfe22"
      }
    },
    {
      "cell_type": "code",
      "source": [
        "import numpy as np\n",
        "import pandas as pd\n",
        "\n",
        "# Step 1: Generate a random dataset\n",
        "np.random.seed(42)  # for reproducibility\n",
        "data = np.random.randint(50, 100, size=10)  # 10 random integers between 50 and 100\n",
        "\n",
        "# Step 2: Convert to DataFrame for better handling\n",
        "df = pd.DataFrame(data, columns=['Scores'])\n",
        "\n",
        "# Step 3: Compute Variance and Standard Deviation\n",
        "variance = df['Scores'].var()  # Sample variance (ddof=1 by default)\n",
        "std_dev = df['Scores'].std()   # Sample standard deviation\n",
        "\n",
        "# Step 4: Display results\n",
        "print(\"Dataset:\\n\", df)\n",
        "print(\"\\nVariance:\", variance)\n",
        "print(\"Standard Deviation:\", std_dev)\n"
      ],
      "metadata": {
        "colab": {
          "base_uri": "https://localhost:8080/"
        },
        "id": "wegwWbGqftKP",
        "outputId": "ba1a405a-c084-4776-fcd1-5a1807632901"
      },
      "execution_count": 4,
      "outputs": [
        {
          "output_type": "stream",
          "name": "stdout",
          "text": [
            "Dataset:\n",
            "    Scores\n",
            "0      88\n",
            "1      78\n",
            "2      64\n",
            "3      92\n",
            "4      57\n",
            "5      70\n",
            "6      88\n",
            "7      68\n",
            "8      72\n",
            "9      60\n",
            "\n",
            "Variance: 152.45555555555558\n",
            "Standard Deviation: 12.347289401142081\n"
          ]
        }
      ]
    },
    {
      "cell_type": "markdown",
      "source": [
        "Explanation:\n",
        "Variance measures how far each number in the set is from the mean.\n",
        "\n",
        "Standard Deviation is the square root of the variance.\n",
        "\n",
        "df.var() and df.std() compute sample statistics (ddof=1).\n",
        "Use ddof=0 if you want population statistics:"
      ],
      "metadata": {
        "id": "nlAyvHr3fyoX"
      }
    },
    {
      "cell_type": "code",
      "source": [
        "variance = df['Scores'].var(ddof=0)\n",
        "std_dev = df['Scores'].std(ddof=0)\n"
      ],
      "metadata": {
        "id": "7Qgb-evIf053"
      },
      "execution_count": 5,
      "outputs": []
    },
    {
      "cell_type": "markdown",
      "source": [
        "# **23) Visualize skewness and kurtosis using Python libraries like matplotlib or seaborn>?**\n",
        "\n",
        "ans- You can visualize skewness and kurtosis in Python using libraries like Matplotlib, Seaborn, and Scipy for numerical computation.\n",
        "\n",
        "✅ Python Code: Visualize Skewness & Kurtosis"
      ],
      "metadata": {
        "id": "h1mHM9v7gAYR"
      }
    },
    {
      "cell_type": "code",
      "source": [
        "import numpy as np\n",
        "import pandas as pd\n",
        "import seaborn as sns\n",
        "import matplotlib.pyplot as plt\n",
        "from scipy.stats import skew, kurtosis\n",
        "\n",
        "# Step 1: Generate a dataset\n",
        "np.random.seed(42)\n",
        "data = np.random.normal(loc=50, scale=10, size=1000)  # Normally distributed data\n",
        "\n",
        "# Step 2: Convert to DataFrame\n",
        "df = pd.DataFrame(data, columns=[\"Values\"])\n",
        "\n",
        "# Step 3: Calculate skewness and kurtosis\n",
        "skewness = skew(df[\"Values\"])\n",
        "kurt = kurtosis(df[\"Values\"])  # Fisher's definition (normal dist = 0)\n",
        "\n",
        "# Step 4: Plot histogram with KDE\n",
        "plt.figure(figsize=(10, 6))\n",
        "sns.histplot(df[\"Values\"], kde=True, bins=30, color='skyblue')\n",
        "plt.title(f\"Distribution with Skewness = {skewness:.2f}, Kurtosis = {kurt:.2f}\")\n",
        "plt.xlabel(\"Value\")\n",
        "plt.ylabel(\"Frequency\")\n",
        "plt.grid(True)\n",
        "plt.show()\n"
      ],
      "metadata": {
        "colab": {
          "base_uri": "https://localhost:8080/",
          "height": 564
        },
        "id": "dMMhFUtQgL6k",
        "outputId": "019a68d1-e36d-48a7-84ef-b7eb43042d98"
      },
      "execution_count": 6,
      "outputs": [
        {
          "output_type": "display_data",
          "data": {
            "text/plain": [
              "<Figure size 1000x600 with 1 Axes>"
            ],
            "image/png": "[encoded data removed]"
          },
          "metadata": {}
        }
      ]
    },
    {
      "cell_type": "markdown",
      "source": [
        "Interpretation:\n",
        "\n",
        "Skewness:\n",
        "\n",
        "0 → Right-skewed\n",
        "\n",
        "< 0 → Left-skewed\n",
        "\n",
        "= 0 → Symmetrical\n",
        "\n",
        "Kurtosis (Fisher):\n",
        "\n",
        "0 → Heavy tails (leptokurtic)\n",
        "\n",
        "< 0 → Light tails (platykurtic)\n",
        "\n",
        "= 0 → Normal (mesokurtic)"
      ],
      "metadata": {
        "id": "XsWdsEgpgR0v"
      }
    },
    {
      "cell_type": "markdown",
      "source": [
        "# **24) Implement the Pearson and Spearman correlation coefficients for a dataset.?**\n",
        "\n",
        "ans- Here’s a complete Python implementation that computes both Pearson and Spearman correlation coefficients for a dataset using pandas and scipy.stats.\n",
        "\n",
        "✅ Python Code: Pearson and Spearman Correlation"
      ],
      "metadata": {
        "id": "hPzWTN5MgcTe"
      }
    },
    {
      "cell_type": "code",
      "source": [
        "import pandas as pd\n",
        "import seaborn as sns\n",
        "from scipy.stats import pearsonr, spearmanr\n",
        "\n",
        "# Step 1: Load a sample dataset\n",
        "df = sns.load_dataset(\"iris\")\n",
        "\n",
        "# We'll compare 'sepal_length' and 'petal_length'\n",
        "x = df[\"sepal_length\"]\n",
        "y = df[\"petal_length\"]\n",
        "\n",
        "# Step 2: Compute Pearson Correlation\n",
        "pearson_corr, pearson_p = pearsonr(x, y)\n",
        "\n",
        "# Step 3: Compute Spearman Correlation\n",
        "spearman_corr, spearman_p = spearmanr(x, y)\n",
        "\n",
        "# Step 4: Display results\n",
        "print(\"Pearson Correlation Coefficient:\", round(pearson_corr, 3))\n",
        "print(\"Pearson p-value:\", round(pearson_p, 4))\n",
        "print(\"\\nSpearman Correlation Coefficient:\", round(spearman_corr, 3))\n",
        "print(\"Spearman p-value:\", round(spearman_p, 4))\n"
      ],
      "metadata": {
        "colab": {
          "base_uri": "https://localhost:8080/"
        },
        "id": "FdeQIeGhgwq-",
        "outputId": "6d710652-7c33-4d98-e706-f9d73e669090"
      },
      "execution_count": 7,
      "outputs": [
        {
          "output_type": "stream",
          "name": "stdout",
          "text": [
            "Pearson Correlation Coefficient: 0.872\n",
            "Pearson p-value: 0.0\n",
            "\n",
            "Spearman Correlation Coefficient: 0.882\n",
            "Spearman p-value: 0.0\n"
          ]
        }
      ]
    },
    {
      "cell_type": "markdown",
      "source": [
        " Difference Between Pearson and Spearman:\n",
        "\n",
        " | Metric       | Pearson                           | Spearman                            |\n",
        "| ------------ | --------------------------------- | ----------------------------------- |\n",
        "| Measures     | Linear relationship               | Monotonic relationship (rank-based) |\n",
        "| Sensitive to | Outliers                          | Less sensitive                      |\n",
        "| Assumes      | Normal distribution and linearity | No strict distribution assumption   |\n",
        "\n",
        "Want to visualize it?"
      ],
      "metadata": {
        "id": "VKnl9SyFg1NP"
      }
    },
    {
      "cell_type": "code",
      "source": [
        "import matplotlib.pyplot as plt\n",
        "sns.lmplot(data=df, x=\"sepal_length\", y=\"petal_length\")\n",
        "plt.title(\"Scatter Plot with Linear Fit (Pearson)\")\n",
        "plt.show()\n"
      ],
      "metadata": {
        "colab": {
          "base_uri": "https://localhost:8080/",
          "height": 529
        },
        "id": "Lq6T7gN_hCH-",
        "outputId": "7bd01863-b205-4994-861b-cca17ee42ffe"
      },
      "execution_count": 8,
      "outputs": [
        {
          "output_type": "display_data",
          "data": {
            "text/plain": [
              "<Figure size 500x500 with 1 Axes>"
            ],
            "image/png": "[encoded data removed]"
          },
          "metadata": {}
        }
      ]
    }
  ]
}